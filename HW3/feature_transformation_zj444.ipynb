{
 "cells": [
  {
   "cell_type": "code",
   "execution_count": 4,
   "metadata": {},
   "outputs": [],
   "source": [
    "from sklearn.model_selection import train_test_split\n",
    "import random\n",
    "import numpy as np\n",
    "import matplotlib.pyplot as plt\n",
    "import pickle\n",
    "%matplotlib inline"
   ]
  },
  {
   "cell_type": "markdown",
   "metadata": {},
   "source": [
    "## Basis Functions"
   ]
  },
  {
   "cell_type": "markdown",
   "metadata": {},
   "source": [
    "We're going to investigate how to use linear regression to approximate and estimate complicated functions.  For example, suppose we want to fit the following function on the interval $[0,1]$:"
   ]
  },
  {
   "cell_type": "code",
   "execution_count": 5,
   "metadata": {
    "collapsed": false,
    "jupyter": {
     "outputs_hidden": false
    }
   },
   "outputs": [
    {
     "data": {
      "image/png": "[encoded data removed]",
      "text/plain": [
       "<Figure size 432x288 with 1 Axes>"
      ]
     },
     "metadata": {
      "needs_background": "light"
     },
     "output_type": "display_data"
    }
   ],
   "source": [
    "def y(x):\n",
    "    ret = .15*np.sin(40*x) \n",
    "    ret = ret + .25*np.sin(10*x)\n",
    "    step_fn1 = np.zeros(len(x))\n",
    "    step_fn1[x >= .25] = 1\n",
    "    step_fn2 = np.zeros(len(x))\n",
    "    step_fn2[x >= .75] = 1\n",
    "    ret = ret - 0.3*step_fn1 + 0.8 *step_fn2 \n",
    "    return ret\n",
    "\n",
    "x = np.arange(0.0, 1.0, 0.001)\n",
    "plt.plot(x, y(x))\n",
    "plt.show()\n"
   ]
  },
  {
   "cell_type": "markdown",
   "metadata": {},
   "source": [
    "Here the input space, shown on the x-axis, is very simple -- it's just the interval $[0,1]$.  The output space is reals ($\\mathcal{R}$), and a graph of the function $\\{(x,y(x)) \\mid x \\in [0,1]\\}$ is shown above.  Clearly a linear function of the input will not give a good approximation to the function.  There are many ways to construct nonlinear functions of the input.  Some popular approaches in machine learning are regression trees, neural networks, and local regression (e.g. LOESS).  However, our approach here will be to map the input space $[0,1]$ into a \"feature space\" $\\mathcal{R}^d$, and then run standard linear regression in the feature space. \n",
    "\n",
    "Feature extraction, or \"featurization\", maps an input from some input space $\\mathcal{X}$ to a vector in $\\mathcal{R}^d$.  Here our input space is $\\mathcal{X}=[0,1]$, so we could write our feature mapping as a function $\\Phi:[0,1]\\to\\mathcal{R}^d$. The vector $\\Phi(x)$ is called a feature vector, and each entry of the vector is called a feature.  Our feature mapping is typically defined in terms of a set of functions, each computing a single entry of the feature vector.  For example, let's define a feature function $\\phi_1(x)=1(x\\ge0.25)$.  The $1(\\cdot)$ denotes an indicator function, which is 1 if the expression in the parenthesis is true, and 0 otherwise.  So $\\phi_1(x)$ is $1$ if $x\\ge0.25$ and $0$ otherwise.  This function produces a \"feature\" of x.  Let's define two more features: $\\phi_2(x)=1(x\\ge0.5)$ and $\\phi_3(x)=1(x\\ge0.75)$. Now we can define a feature mapping into $\\mathcal{R}^3$ as:\n",
    "$$ \\Phi(x) = ( \\phi_1(x), \\phi_2(x), \\phi_3(x) ).$$\n",
    "\n",
    "Let's code up these feature functions explicitly and plot them as functions of $x$:\n"
   ]
  },
  {
   "cell_type": "code",
   "execution_count": 6,
   "metadata": {
    "collapsed": false,
    "jupyter": {
     "outputs_hidden": false
    },
    "scrolled": true
   },
   "outputs": [
    {
     "data": {
      "image/png": "[encoded data removed]",
      "text/plain": [
       "<Figure size 432x288 with 1 Axes>"
      ]
     },
     "metadata": {
      "needs_background": "light"
     },
     "output_type": "display_data"
    }
   ],
   "source": [
    "def step_fn_generator(step_loc=0):\n",
    "    def f(x):\n",
    "        ret = np.zeros(len(x))\n",
    "        ret[x >= step_loc] = 1\n",
    "        return ret\n",
    "    return f\n",
    "\n",
    "phi_1 = step_fn_generator(0.25)\n",
    "phi_2 = step_fn_generator(0.50)\n",
    "phi_3 = step_fn_generator(0.75)\n",
    "\n",
    "x = np.arange(0.0, 1.0, 0.001)\n",
    "\n",
    "plt.plot(x, phi_1(x)) \n",
    "plt.plot(x, phi_2(x)+.01) #adding perturbation .01 so we the plots don't overlap\n",
    "plt.plot(x, phi_3(x)+.02) \n",
    "plt.ylim([-.2,1.2])\n",
    "plt.show()"
   ]
  },
  {
   "cell_type": "markdown",
   "metadata": {},
   "source": [
    "In the plot above we see graphs of the 3 feature functions we defined. We note that feature functions in this context are often called \"basis functions\" (See Hastie et al's ESL Section 5.1).  You should convince yourself that the feature mapping $\\Phi(x)$ only takes on 4 different values as $x$ ranges over the input space $[0,1]$.  For example, the input $0.4$ gets mapped to the vector $(1,0,0)$ under $\\Phi$, since $\\Phi(0.4) =( \\phi_1(0.4), \\phi_2(0.4),\\phi_3(0.4) )= (1,0,0)$.  \n",
    "\n",
    "On one hand, the featurization loses a lot of information that was originally contained in the input $x$. (e.g. every input value in the interval $(.25,.5)$ gets mapped to the same feature vector.  On the other hand, affine combinations (i.e. linear combinations plus a constant) of our feature functions can now produce highly nonlinear functions of $x$, as we see in the plots below:"
   ]
  },
  {
   "cell_type": "code",
   "execution_count": 7,
   "metadata": {
    "collapsed": false,
    "jupyter": {
     "outputs_hidden": false
    }
   },
   "outputs": [
    {
     "data": {
      "image/png": "[encoded data removed]",
      "text/plain": [
       "<Figure size 432x288 with 1 Axes>"
      ]
     },
     "metadata": {
      "needs_background": "light"
     },
     "output_type": "display_data"
    }
   ],
   "source": [
    "def linear_comb_generator(fns, coefs):\n",
    "    def f(x):\n",
    "        return sum(fns[i](x) * coefs[i] for i in range(len(fns)))\n",
    "    return f\n",
    "\n",
    "Phi = [phi_1, phi_2, phi_3]\n",
    "f_1 = linear_comb_generator(Phi, [.2, -.4, .7])\n",
    "f_2 = linear_comb_generator(Phi, [-.1, .3, .4]) \n",
    "plt.plot(x, f_1(x)) \n",
    "plt.plot(x-.005, f_2(x)+ .06)  #-0.005 just so easier to view the functions\n",
    "plt.xlim([0,1])\n",
    "plt.show()"
   ]
  },
  {
   "cell_type": "markdown",
   "metadata": {},
   "source": [
    "## Dataset and Feature Transformation "
   ]
  },
  {
   "cell_type": "markdown",
   "metadata": {},
   "source": [
    "We will create a basis of step functions on the interval [0,1]. "
   ]
  },
  {
   "cell_type": "code",
   "execution_count": 8,
   "metadata": {},
   "outputs": [],
   "source": [
    "def step_fn_generator(stepLoc=0):\n",
    "    def f(x):\n",
    "        ret = np.zeros(len(x))\n",
    "        ret[x >= stepLoc] = 1\n",
    "        return ret\n",
    "    return f"
   ]
  },
  {
   "cell_type": "markdown",
   "metadata": {},
   "source": [
    "We will then construct a linear combination of these step functions to be our target\n",
    "function. "
   ]
  },
  {
   "cell_type": "code",
   "execution_count": 9,
   "metadata": {},
   "outputs": [],
   "source": [
    "def linear_comb_generator(fns, coefs):\n",
    "    def f(x):\n",
    "        return sum(fns[i](x) * coefs[i] for i in range(len(fns)))\n",
    "    return f"
   ]
  },
  {
   "cell_type": "markdown",
   "metadata": {},
   "source": [
    "We will construct a function to \"featurize\" an input in [0,1]\n",
    "into the evaluations of all functions in the basis on the input.\n",
    "\n",
    "Optionally, if coefs_true is provided, they will be used to generate\n",
    "target_fn and featurize."
   ]
  },
  {
   "cell_type": "code",
   "execution_count": 10,
   "metadata": {},
   "outputs": [],
   "source": [
    "def get_target_and_featurizer(num_basis_fns = 100, num_nonzero = 10, coefs_true=None):\n",
    "\n",
    "    if coefs_true is not None:\n",
    "        num_basis_fns = len(coefs_true)\n",
    "    else:\n",
    "        nonzero_indices = np.random.choice(num_basis_fns, num_nonzero)\n",
    "        coefs_true = np.zeros(num_basis_fns)\n",
    "        coefs_true[nonzero_indices] = np.random.randn(num_nonzero)\n",
    "\n",
    "    all_basis_fns = [step_fn_generator(stepLoc=s)\n",
    "                     for s in np.linspace(0, 1, num_basis_fns, endpoint=False)]\n",
    "\n",
    "    # Construct target function (the Bayes prediction function)\n",
    "    target_fn = linear_comb_generator(all_basis_fns, coefs_true)\n",
    "\n",
    "    def featurize(x):\n",
    "        n = len(x)\n",
    "        # Featurize input values in [0,1]\n",
    "        X_ftrs = np.empty((n, num_basis_fns))\n",
    "        for ftr_num in range(num_basis_fns):\n",
    "            X_ftrs[:, ftr_num] = all_basis_fns[ftr_num](x)\n",
    "        return X_ftrs\n",
    "\n",
    "    return target_fn, coefs_true, featurize"
   ]
  },
  {
   "cell_type": "markdown",
   "metadata": {},
   "source": [
    "Data will be generated uniformly randomly between [0,1] as the target function plus noise."
   ]
  },
  {
   "cell_type": "code",
   "execution_count": 11,
   "metadata": {},
   "outputs": [],
   "source": [
    "def generate_data(target_fn, n=1000, noise_scale=.25, tdof=6):\n",
    "    # Construct dataset\n",
    "    x = np.sort(np.random.rand(n)) #chooses uniformly from [0,1)\n",
    "    y_target = target_fn(x)\n",
    "    y = y_target + noise_scale * np.random.standard_t(tdof,n)\n",
    "    return x, y"
   ]
  },
  {
   "cell_type": "markdown",
   "metadata": {},
   "source": [
    "We need to split into training and testing at random"
   ]
  },
  {
   "cell_type": "code",
   "execution_count": 12,
   "metadata": {},
   "outputs": [],
   "source": [
    "def get_data_splits(x, y, test_frac=.2):\n",
    "    ## Based on https://github.com/ageron/handson-ml/blob/master/02_end_to_end_machine_learning_project.ipynb\n",
    "    n = len(y)\n",
    "    shuffled_indices = np.random.permutation(n)\n",
    "    n_test = int(n * test_frac)\n",
    "    n_train = n - n_test\n",
    "    indices_test = shuffled_indices[:n_test]\n",
    "    indices_train = shuffled_indices[n_test:]\n",
    "    y_train = y[indices_train]\n",
    "    x_train = x[indices_train]\n",
    "    y_test = y[indices_test]\n",
    "    x_test = x[indices_test]\n",
    "    return x_train, y_train, x_test, y_test"
   ]
  },
  {
   "cell_type": "code",
   "execution_count": 13,
   "metadata": {},
   "outputs": [],
   "source": [
    "def generate_problem(n=200, num_basis_fns=400, num_nonzero=10, noise_scale=.25, tdof=6, test_frac=.2, write_problem=False, file_name=\"lasso_data.pickle\"):\n",
    "    target_fn, coefs_true, featurize = get_target_and_featurizer(num_basis_fns, num_nonzero)\n",
    "    x, y = generate_data(target_fn, n, noise_scale, tdof)\n",
    "    x_train, y_train, x_test, y_test = get_data_splits(x, y, test_frac)\n",
    "\n",
    "    if write_problem:\n",
    "        print (\"Saving problem to disk.\")\n",
    "        data = {\"coefs_true\":coefs_true, \"x_train\":x_train,\n",
    "                \"y_train\":np.copy(y_train), \"x_test\":x_test, \"y_test\":y_test}\n",
    "        with open(file_name, 'wb') as outfile:\n",
    "            pickle.dump(data, outfile, protocol=2)\n",
    "\n",
    "    return x_train, y_train, x_test, y_test, target_fn, coefs_true, featurize"
   ]
  },
  {
   "cell_type": "code",
   "execution_count": 14,
   "metadata": {},
   "outputs": [],
   "source": [
    "def reconstitute_problem(coefs_true, x_train, y_train, x_test, y_test):\n",
    "    target_fn, coefs_true, featurize = get_target_and_featurizer(coefs_true=coefs_true)\n",
    "    return x_train, y_train, x_test, y_test, target_fn, coefs_true, featurize"
   ]
  },
  {
   "cell_type": "code",
   "execution_count": 15,
   "metadata": {},
   "outputs": [],
   "source": [
    "def load_problem(file_name):\n",
    "    f_myfile = open(file_name, 'rb')\n",
    "    data = pickle.load(f_myfile)\n",
    "    f_myfile.close()\n",
    "    return reconstitute_problem(data[\"coefs_true\"], data[\"x_train\"], data[\"y_train\"],\n",
    "                                data[\"x_test\"], data[\"y_test\"])"
   ]
  },
  {
   "cell_type": "markdown",
   "metadata": {},
   "source": [
    "Putting everything together we can generate and store or load the dataset."
   ]
  },
  {
   "cell_type": "code",
   "execution_count": null,
   "metadata": {},
   "outputs": [],
   "source": [
    "def main(LOAD_PROBLEM=True, GENERATE_PROBLEM=False, WRITE_PROBLEM=False, path = \"lasso_data.pickle\" ):\n",
    "    lasso_data_fname = path\n",
    "    \n",
    "    if GENERATE_PROBLEM:\n",
    "        n=1000\n",
    "        test_frac=.9\n",
    "        num_basis_fns=400\n",
    "        num_nonzero=10\n",
    "        noise_scale=.25 # scale factor on noise\n",
    "        tdof = 6 # degrees of freedom of t-distribution generating noise\n",
    "        x_train, y_train, x_val, y_val, target_fn, coefs_true, featurize = generate_problem(n=n, num_basis_fns=num_basis_fns, num_nonzero=num_nonzero, noise_scale=noise_scale, test_frac=test_frac, write_problem=WRITE_PROBLEM, file_name=lasso_data_fname)\n",
    "\n",
    "    if LOAD_PROBLEM:\n",
    "        x_train, y_train, x_val, y_val, target_fn, coefs_true, featurize = load_problem(lasso_data_fname)\n",
    "\n",
    "    fig, ax = plt.subplots()\n",
    "    plt.scatter(x_train, y_train, s=6, color='k', label='Training data')\n",
    "    x = np.arange(0,1,.001)\n",
    "    ax.plot(x, target_fn(x), 'tab:purple', lw=3, label='Target function')\n",
    "    legend = ax.legend(loc='upper left', shadow=False)\n",
    "    plt.show(block=False)\n",
    "\n",
    "main()"
   ]
  },
  {
   "cell_type": "code",
   "execution_count": null,
   "metadata": {},
   "outputs": [],
   "source": []
  }
 ],
 "metadata": {
  "kernelspec": {
   "display_name": "Python [conda env:dsga-1003]",
   "language": "python",
   "name": "conda-env-dsga-1003-py"
  },
  "language_info": {
   "codemirror_mode": {
    "name": "ipython",
    "version": 3
   },
   "file_extension": ".py",
   "mimetype": "text/x-python",
   "name": "python",
   "nbconvert_exporter": "python",
   "pygments_lexer": "ipython3",
   "version": "3.7.6"
  }
 },
 "nbformat": 4,
 "nbformat_minor": 4
}
