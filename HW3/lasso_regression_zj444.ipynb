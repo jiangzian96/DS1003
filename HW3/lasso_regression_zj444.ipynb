{
 "cells": [
  {
   "cell_type": "markdown",
   "metadata": {},
   "source": [
    "## Lasso Regression\n",
    "\n",
    "We will try to fit the dataset with a Lasso Regression model. The steps are \n",
    "\n",
    "- Implement the Shooting Algorithm\n",
    " * allow for random or non-random order for the coordinates\n",
    " * allow for initial weights all zero or the corresponding solution to Ridge Regression\n",
    "- Determine a class for the model supporting methods\n",
    " * fit \n",
    " * predict \n",
    " * score\n",
    "- Tune hyperparameters\n",
    " * Search for hyperparameters through trial and error\n",
    " * Use upper bound on hyperparameter with warm start\n",
    "- Plot the distributions of weight on the features \n",
    " * Does Lasso Regression give us sparsity\n",
    "- Threshold the values to compare zero/non-zero against the weights of the target function\n",
    "- Implement Projected Gradient Descent \n",
    " * Compare to Shooting Algorithm"
   ]
  },
  {
   "cell_type": "code",
   "execution_count": 1,
   "metadata": {},
   "outputs": [],
   "source": [
    "import numpy as np\n",
    "np.random.seed(42)\n",
    "import pandas as pd\n",
    "import itertools\n",
    "import matplotlib.pyplot as plt\n",
    "%matplotlib inline\n",
    "\n",
    "from scipy.optimize import minimize\n",
    "\n",
    "from sklearn.base import BaseEstimator, RegressorMixin\n",
    "from sklearn.linear_model import Lasso\n",
    "from sklearn.model_selection import GridSearchCV, PredefinedSplit\n",
    "from sklearn.model_selection import ParameterGrid\n",
    "from sklearn.metrics import mean_squared_error, make_scorer\n",
    "from sklearn.metrics import confusion_matrix\n",
    "\n",
    "from load_data import load_problem\n",
    "\n",
    "PICKLE_PATH = 'lasso_data.pickle'"
   ]
  },
  {
   "cell_type": "markdown",
   "metadata": {},
   "source": [
    "#### Dataset"
   ]
  },
  {
   "cell_type": "code",
   "execution_count": 2,
   "metadata": {},
   "outputs": [],
   "source": [
    "#load data \n",
    "\n",
    "x_train, y_train, x_val, y_val, target_fn, coefs_true, featurize = load_problem(PICKLE_PATH)\n",
    "X_train = featurize(x_train)\n",
    "X_val = featurize(x_val)"
   ]
  },
  {
   "cell_type": "code",
   "execution_count": 3,
   "metadata": {},
   "outputs": [
    {
     "data": {
      "image/png": "[encoded data removed]",
      "text/plain": [
       "<Figure size 504x504 with 2 Axes>"
      ]
     },
     "metadata": {
      "needs_background": "light"
     },
     "output_type": "display_data"
    }
   ],
   "source": [
    "#Visualize training data\n",
    "\n",
    "fig, ax = plt.subplots(figsize = (7,7))\n",
    "ax.set_title(\"({0}, {1}) Design Matrix\".format(X_train.shape[0], X_train.shape[1]))\n",
    "ax.set_xlabel(\"Feature Index\")\n",
    "ax.set_ylabel(\"Example Number\")\n",
    "temp = ax.imshow(X_train, cmap=plt.cm.Purples, aspect=\"auto\")\n",
    "plt.colorbar(temp, shrink=0.5);"
   ]
  },
  {
   "cell_type": "code",
   "execution_count": 4,
   "metadata": {},
   "outputs": [],
   "source": [
    "def soft_threshold(a, delta):\n",
    "    if a < - delta:\n",
    "        return (a + delta)\n",
    "    elif a > delta:\n",
    "        return (a - delta)\n",
    "    else: \n",
    "        return 0\n",
    "    \n",
    "def compute_sum_sqr_loss(X, y, w):\n",
    "    return np.dot((np.dot(X,w)-y).T,np.dot(X,w)-y)\n",
    "    \n",
    "def compute_lasso_objective(X, y, w, l1_reg=0):\n",
    "    return np.dot((np.dot(X,w)-y).T,np.dot(X,w)-y) + l1_reg*np.sum(np.abs(w))\n",
    "    \n",
    "def get_ridge_solution(X, y, l2_reg):\n",
    "    return np.dot(np.linalg.inv(np.dot(X.T,X)+l2_reg*np.eye(X.shape[1])),np.dot(X.T,y))"
   ]
  },
  {
   "cell_type": "markdown",
   "metadata": {},
   "source": [
    "Remember that we should avoid loops in the implementation because we need to run the algorithm repeatedly for hyperparameter tuning.\n",
    "\n",
    "Please see Lecture 4 notes for derivation of shooting algorithm."
   ]
  },
  {
   "cell_type": "markdown",
   "metadata": {},
   "source": [
    "## Q1"
   ]
  },
  {
   "cell_type": "markdown",
   "metadata": {},
   "source": [
    "$$a_j = 2X_{.j}^TX_{.j}$$\n",
    "$$c_j = 2X_{.j}^T(y-Xw+w_jX_{.j})$$"
   ]
  },
  {
   "cell_type": "markdown",
   "metadata": {},
   "source": [
    "## Q2"
   ]
  },
  {
   "cell_type": "code",
   "execution_count": 5,
   "metadata": {},
   "outputs": [],
   "source": [
    "def shooting_algorithm(X, y, w0=None, l1_reg = 1., max_num_epochs = 1000, min_obj_decrease=1e-8, random=False):\n",
    "    if w0 is None:\n",
    "        w = np.zeros(X.shape[1])\n",
    "    else:\n",
    "        w = np.copy(w0)\n",
    "    d = X.shape[1]\n",
    "    epoch = 0\n",
    "    obj_val = compute_lasso_objective(X, y, w, l1_reg)\n",
    "    obj_decrease = min_obj_decrease + 1.\n",
    "    while (obj_decrease>min_obj_decrease) and (epoch<max_num_epochs):\n",
    "        obj_old = obj_val\n",
    "        # Cyclic coordinates descent\n",
    "        coordinates = range(d)\n",
    "        # Randomized coordinates descent\n",
    "        if random:\n",
    "            coordinates = np.random.permutation(d)\n",
    "        for j in coordinates:\n",
    "            aj = 2*np.dot(X[:,j].T,X[:,j])\n",
    "            cj = 2*np.dot(X[:,j].T,y-np.dot(X,w)+w[j]*X[:,j])\n",
    "            w[j] = soft_threshold(cj/aj,l1_reg/aj)    \n",
    "        obj_val = compute_lasso_objective(X, y, w, l1_reg)\n",
    "        obj_decrease = obj_old - obj_val\n",
    "        epoch += 1\n",
    "    print(\"Ran for \"+str(epoch)+\" epochs. \" + 'Lowest loss: ' + str(obj_val))\n",
    "    return w, obj_val, epoch"
   ]
  },
  {
   "cell_type": "code",
   "execution_count": 6,
   "metadata": {},
   "outputs": [
    {
     "name": "stderr",
     "output_type": "stream",
     "text": [
      "/opt/conda/envs/dsga-1003/lib/python3.7/site-packages/ipykernel_launcher.py:20: RuntimeWarning: invalid value encountered in double_scalars\n",
      "/opt/conda/envs/dsga-1003/lib/python3.7/site-packages/ipykernel_launcher.py:20: RuntimeWarning: divide by zero encountered in double_scalars\n"
     ]
    },
    {
     "name": "stdout",
     "output_type": "stream",
     "text": [
      "Ran for 1000 epochs. Lowest loss: 0.6798308598917894\n",
      "Ran for 1000 epochs. Lowest loss: 1.085852696221787\n",
      "Ran for 1000 epochs. Lowest loss: 3.97932878525749\n",
      "Ran for 649 epochs. Lowest loss: 16.19773809673319\n",
      "Ran for 568 epochs. Lowest loss: 56.81897672643175\n",
      "Ran for 265 epochs. Lowest loss: 221.86396567518784\n",
      "Ran for 1000 epochs. Lowest loss: 0.6789177209948681\n",
      "Ran for 1000 epochs. Lowest loss: 1.042250022635014\n",
      "Ran for 1000 epochs. Lowest loss: 3.9049775016337263\n",
      "Ran for 824 epochs. Lowest loss: 16.19773797187303\n",
      "Ran for 742 epochs. Lowest loss: 56.81897663333593\n",
      "Ran for 732 epochs. Lowest loss: 221.86396593376537\n"
     ]
    },
    {
     "data": {
      "text/html": [
       "<div>\n",
       "<style scoped>\n",
       "    .dataframe tbody tr th:only-of-type {\n",
       "        vertical-align: middle;\n",
       "    }\n",
       "\n",
       "    .dataframe tbody tr th {\n",
       "        vertical-align: top;\n",
       "    }\n",
       "\n",
       "    .dataframe thead th {\n",
       "        text-align: right;\n",
       "    }\n",
       "</style>\n",
       "<table border=\"1\" class=\"dataframe\">\n",
       "  <thead>\n",
       "    <tr style=\"text-align: right;\">\n",
       "      <th></th>\n",
       "      <th>random</th>\n",
       "      <th>l1_reg</th>\n",
       "      <th>epoch</th>\n",
       "      <th>obj function</th>\n",
       "      <th>val loss</th>\n",
       "    </tr>\n",
       "  </thead>\n",
       "  <tbody>\n",
       "    <tr>\n",
       "      <th>0</th>\n",
       "      <td>True</td>\n",
       "      <td>0.0001</td>\n",
       "      <td>1000</td>\n",
       "      <td>0.679831</td>\n",
       "      <td>161.199238</td>\n",
       "    </tr>\n",
       "    <tr>\n",
       "      <th>1</th>\n",
       "      <td>True</td>\n",
       "      <td>0.0100</td>\n",
       "      <td>1000</td>\n",
       "      <td>1.085853</td>\n",
       "      <td>169.743510</td>\n",
       "    </tr>\n",
       "    <tr>\n",
       "      <th>2</th>\n",
       "      <td>True</td>\n",
       "      <td>0.1000</td>\n",
       "      <td>1000</td>\n",
       "      <td>3.979329</td>\n",
       "      <td>152.934274</td>\n",
       "    </tr>\n",
       "    <tr>\n",
       "      <th>3</th>\n",
       "      <td>True</td>\n",
       "      <td>1.0000</td>\n",
       "      <td>649</td>\n",
       "      <td>16.197738</td>\n",
       "      <td>137.242037</td>\n",
       "    </tr>\n",
       "    <tr>\n",
       "      <th>4</th>\n",
       "      <td>True</td>\n",
       "      <td>10.0000</td>\n",
       "      <td>568</td>\n",
       "      <td>56.818977</td>\n",
       "      <td>179.330099</td>\n",
       "    </tr>\n",
       "    <tr>\n",
       "      <th>5</th>\n",
       "      <td>True</td>\n",
       "      <td>100.0000</td>\n",
       "      <td>265</td>\n",
       "      <td>221.863966</td>\n",
       "      <td>757.209712</td>\n",
       "    </tr>\n",
       "    <tr>\n",
       "      <th>6</th>\n",
       "      <td>False</td>\n",
       "      <td>0.0001</td>\n",
       "      <td>1000</td>\n",
       "      <td>0.678918</td>\n",
       "      <td>205.219387</td>\n",
       "    </tr>\n",
       "    <tr>\n",
       "      <th>7</th>\n",
       "      <td>False</td>\n",
       "      <td>0.0100</td>\n",
       "      <td>1000</td>\n",
       "      <td>1.042250</td>\n",
       "      <td>202.856209</td>\n",
       "    </tr>\n",
       "    <tr>\n",
       "      <th>8</th>\n",
       "      <td>False</td>\n",
       "      <td>0.1000</td>\n",
       "      <td>1000</td>\n",
       "      <td>3.904978</td>\n",
       "      <td>185.525278</td>\n",
       "    </tr>\n",
       "    <tr>\n",
       "      <th>9</th>\n",
       "      <td>False</td>\n",
       "      <td>1.0000</td>\n",
       "      <td>824</td>\n",
       "      <td>16.197738</td>\n",
       "      <td>151.037437</td>\n",
       "    </tr>\n",
       "    <tr>\n",
       "      <th>10</th>\n",
       "      <td>False</td>\n",
       "      <td>10.0000</td>\n",
       "      <td>742</td>\n",
       "      <td>56.818977</td>\n",
       "      <td>186.912998</td>\n",
       "    </tr>\n",
       "    <tr>\n",
       "      <th>11</th>\n",
       "      <td>False</td>\n",
       "      <td>100.0000</td>\n",
       "      <td>732</td>\n",
       "      <td>221.863966</td>\n",
       "      <td>768.793780</td>\n",
       "    </tr>\n",
       "  </tbody>\n",
       "</table>\n",
       "</div>"
      ],
      "text/plain": [
       "    random    l1_reg  epoch  obj function    val loss\n",
       "0     True    0.0001   1000      0.679831  161.199238\n",
       "1     True    0.0100   1000      1.085853  169.743510\n",
       "2     True    0.1000   1000      3.979329  152.934274\n",
       "3     True    1.0000    649     16.197738  137.242037\n",
       "4     True   10.0000    568     56.818977  179.330099\n",
       "5     True  100.0000    265    221.863966  757.209712\n",
       "6    False    0.0001   1000      0.678918  205.219387\n",
       "7    False    0.0100   1000      1.042250  202.856209\n",
       "8    False    0.1000   1000      3.904978  185.525278\n",
       "9    False    1.0000    824     16.197738  151.037437\n",
       "10   False   10.0000    742     56.818977  186.912998\n",
       "11   False  100.0000    732    221.863966  768.793780"
      ]
     },
     "execution_count": 6,
     "metadata": {},
     "output_type": "execute_result"
    }
   ],
   "source": [
    "randoms = [True,False]\n",
    "regs = [1e-4,1e-2,1e-1,1,10,100]\n",
    "ridge_solution = get_ridge_solution(X_train,y_train,l2_reg=0.01)\n",
    "random_list = []\n",
    "epoch_list = []\n",
    "reg_list = []\n",
    "loss_list = []\n",
    "val_list = []\n",
    "for random in randoms:\n",
    "    for reg in regs:\n",
    "        w, obj_val, epoch = shooting_algorithm(X_train, y_train, w0=None, l1_reg=reg, max_num_epochs=1000, min_obj_decrease=1e-8, random=random)\n",
    "        val_loss = compute_sum_sqr_loss(X_val,y_val,w)\n",
    "        random_list.append(random)\n",
    "        epoch_list.append(epoch)\n",
    "        loss_list.append(obj_val)\n",
    "        val_list.append(val_loss)\n",
    "        reg_list.append(reg)\n",
    "df = pd.DataFrame({\"random\":random_list,\"l1_reg\":reg_list,\"epoch\":epoch_list,\"obj function\":loss_list,\"val loss\":val_list})\n",
    "df        "
   ]
  },
  {
   "cell_type": "markdown",
   "metadata": {},
   "source": [
    "As we can see from the table above, if we initialize w to be 0's, randomization with lambda=1 gives the best result "
   ]
  },
  {
   "cell_type": "code",
   "execution_count": 7,
   "metadata": {},
   "outputs": [
    {
     "name": "stderr",
     "output_type": "stream",
     "text": [
      "/opt/conda/envs/dsga-1003/lib/python3.7/site-packages/ipykernel_launcher.py:20: RuntimeWarning: invalid value encountered in double_scalars\n",
      "/opt/conda/envs/dsga-1003/lib/python3.7/site-packages/ipykernel_launcher.py:20: RuntimeWarning: divide by zero encountered in double_scalars\n"
     ]
    },
    {
     "name": "stdout",
     "output_type": "stream",
     "text": [
      "Ran for 579 epochs. Lowest loss: 0.6789110289549598\n",
      "Ran for 534 epochs. Lowest loss: 1.0422438166565553\n",
      "Ran for 1000 epochs. Lowest loss: 3.9049764100901316\n",
      "Ran for 629 epochs. Lowest loss: 16.197738065777575\n",
      "Ran for 682 epochs. Lowest loss: 56.81897673111054\n",
      "Ran for 252 epochs. Lowest loss: 221.86396619400932\n",
      "Ran for 486 epochs. Lowest loss: 0.6789105182730852\n",
      "Ran for 571 epochs. Lowest loss: 1.0422432500360437\n",
      "Ran for 880 epochs. Lowest loss: 3.9049739068639173\n",
      "Ran for 720 epochs. Lowest loss: 16.197737980794297\n",
      "Ran for 878 epochs. Lowest loss: 56.818976564156834\n",
      "Ran for 836 epochs. Lowest loss: 221.8639658706465\n"
     ]
    },
    {
     "data": {
      "text/html": [
       "<div>\n",
       "<style scoped>\n",
       "    .dataframe tbody tr th:only-of-type {\n",
       "        vertical-align: middle;\n",
       "    }\n",
       "\n",
       "    .dataframe tbody tr th {\n",
       "        vertical-align: top;\n",
       "    }\n",
       "\n",
       "    .dataframe thead th {\n",
       "        text-align: right;\n",
       "    }\n",
       "</style>\n",
       "<table border=\"1\" class=\"dataframe\">\n",
       "  <thead>\n",
       "    <tr style=\"text-align: right;\">\n",
       "      <th></th>\n",
       "      <th>random</th>\n",
       "      <th>l1_reg</th>\n",
       "      <th>epoch</th>\n",
       "      <th>obj function</th>\n",
       "      <th>val loss</th>\n",
       "    </tr>\n",
       "  </thead>\n",
       "  <tbody>\n",
       "    <tr>\n",
       "      <th>0</th>\n",
       "      <td>True</td>\n",
       "      <td>0.0001</td>\n",
       "      <td>579</td>\n",
       "      <td>0.678911</td>\n",
       "      <td>155.311948</td>\n",
       "    </tr>\n",
       "    <tr>\n",
       "      <th>1</th>\n",
       "      <td>True</td>\n",
       "      <td>0.0100</td>\n",
       "      <td>534</td>\n",
       "      <td>1.042244</td>\n",
       "      <td>153.901668</td>\n",
       "    </tr>\n",
       "    <tr>\n",
       "      <th>2</th>\n",
       "      <td>True</td>\n",
       "      <td>0.1000</td>\n",
       "      <td>1000</td>\n",
       "      <td>3.904976</td>\n",
       "      <td>143.002751</td>\n",
       "    </tr>\n",
       "    <tr>\n",
       "      <th>3</th>\n",
       "      <td>True</td>\n",
       "      <td>1.0000</td>\n",
       "      <td>629</td>\n",
       "      <td>16.197738</td>\n",
       "      <td>112.229370</td>\n",
       "    </tr>\n",
       "    <tr>\n",
       "      <th>4</th>\n",
       "      <td>True</td>\n",
       "      <td>10.0000</td>\n",
       "      <td>682</td>\n",
       "      <td>56.818977</td>\n",
       "      <td>174.465633</td>\n",
       "    </tr>\n",
       "    <tr>\n",
       "      <th>5</th>\n",
       "      <td>True</td>\n",
       "      <td>100.0000</td>\n",
       "      <td>252</td>\n",
       "      <td>221.863966</td>\n",
       "      <td>761.061837</td>\n",
       "    </tr>\n",
       "    <tr>\n",
       "      <th>6</th>\n",
       "      <td>False</td>\n",
       "      <td>0.0001</td>\n",
       "      <td>486</td>\n",
       "      <td>0.678911</td>\n",
       "      <td>155.264592</td>\n",
       "    </tr>\n",
       "    <tr>\n",
       "      <th>7</th>\n",
       "      <td>False</td>\n",
       "      <td>0.0100</td>\n",
       "      <td>571</td>\n",
       "      <td>1.042243</td>\n",
       "      <td>154.268559</td>\n",
       "    </tr>\n",
       "    <tr>\n",
       "      <th>8</th>\n",
       "      <td>False</td>\n",
       "      <td>0.1000</td>\n",
       "      <td>880</td>\n",
       "      <td>3.904974</td>\n",
       "      <td>146.794280</td>\n",
       "    </tr>\n",
       "    <tr>\n",
       "      <th>9</th>\n",
       "      <td>False</td>\n",
       "      <td>1.0000</td>\n",
       "      <td>720</td>\n",
       "      <td>16.197738</td>\n",
       "      <td>111.072406</td>\n",
       "    </tr>\n",
       "    <tr>\n",
       "      <th>10</th>\n",
       "      <td>False</td>\n",
       "      <td>10.0000</td>\n",
       "      <td>878</td>\n",
       "      <td>56.818977</td>\n",
       "      <td>186.973830</td>\n",
       "    </tr>\n",
       "    <tr>\n",
       "      <th>11</th>\n",
       "      <td>False</td>\n",
       "      <td>100.0000</td>\n",
       "      <td>836</td>\n",
       "      <td>221.863966</td>\n",
       "      <td>766.225167</td>\n",
       "    </tr>\n",
       "  </tbody>\n",
       "</table>\n",
       "</div>"
      ],
      "text/plain": [
       "    random    l1_reg  epoch  obj function    val loss\n",
       "0     True    0.0001    579      0.678911  155.311948\n",
       "1     True    0.0100    534      1.042244  153.901668\n",
       "2     True    0.1000   1000      3.904976  143.002751\n",
       "3     True    1.0000    629     16.197738  112.229370\n",
       "4     True   10.0000    682     56.818977  174.465633\n",
       "5     True  100.0000    252    221.863966  761.061837\n",
       "6    False    0.0001    486      0.678911  155.264592\n",
       "7    False    0.0100    571      1.042243  154.268559\n",
       "8    False    0.1000    880      3.904974  146.794280\n",
       "9    False    1.0000    720     16.197738  111.072406\n",
       "10   False   10.0000    878     56.818977  186.973830\n",
       "11   False  100.0000    836    221.863966  766.225167"
      ]
     },
     "execution_count": 7,
     "metadata": {},
     "output_type": "execute_result"
    }
   ],
   "source": [
    "randoms = [True,False]\n",
    "regs = [1e-4,1e-2,1e-1,1,10,100]\n",
    "ridge_solution = get_ridge_solution(X_train,y_train,l2_reg=0.01)\n",
    "random_list = []\n",
    "epoch_list = []\n",
    "reg_list = []\n",
    "loss_list = []\n",
    "val_list = []\n",
    "for random in randoms:\n",
    "    for reg in regs:\n",
    "        w, obj_val, epoch = shooting_algorithm(X_train, y_train, w0=ridge_solution, l1_reg=reg, max_num_epochs=1000, min_obj_decrease=1e-8, random=random)\n",
    "        val_loss = compute_sum_sqr_loss(X_val,y_val,w)\n",
    "        random_list.append(random)\n",
    "        epoch_list.append(epoch)\n",
    "        loss_list.append(obj_val)\n",
    "        val_list.append(val_loss)\n",
    "        reg_list.append(reg)\n",
    "df = pd.DataFrame({\"random\":random_list,\"l1_reg\":reg_list,\"epoch\":epoch_list,\"obj function\":loss_list,\"val loss\":val_list})\n",
    "df"
   ]
  },
  {
   "cell_type": "markdown",
   "metadata": {},
   "source": [
    "As we can see from the table above, if we initialize w to be the ridge solution, no randomization with lambda=1 gives the best result on the test set, and all losses seem to be lower compared to same setup but with $w_0 = \\vec{0}.$"
   ]
  },
  {
   "cell_type": "markdown",
   "metadata": {},
   "source": [
    "## Q3"
   ]
  },
  {
   "cell_type": "markdown",
   "metadata": {},
   "source": [
    "#### Class for Lasso Regression "
   ]
  },
  {
   "cell_type": "code",
   "execution_count": 8,
   "metadata": {},
   "outputs": [],
   "source": [
    "class LassoRegression(BaseEstimator, RegressorMixin):\n",
    "    \"\"\" Lasso regression\"\"\"\n",
    "    def __init__(self, l1_reg=1.0, randomized=False):\n",
    "        if l1_reg < 0:\n",
    "            raise ValueError('Regularization penalty should be at least 0.')\n",
    "        self.l1_reg = l1_reg\n",
    "        self.randomized = randomized\n",
    "\n",
    "\n",
    "    def fit(self, X, y, max_epochs = 1000, coef_init=None):\n",
    "        # convert y to 1-dim array, in case we're given a column vector\n",
    "        y = y.reshape(-1)\n",
    "        if coef_init is None:\n",
    "            coef_init = get_ridge_solution(X,y, self.l1_reg)\n",
    "        \n",
    "        self.w_, obj_val, epoch = shooting_algorithm(X, y, w0=coef_init, l1_reg=self.l1_reg, max_num_epochs=max_epochs, min_obj_decrease=1e-8, random=self.randomized)\n",
    "        return self\n",
    "\n",
    "    def predict(self, X, y=None):\n",
    "        try:\n",
    "            getattr(self, \"w_\")\n",
    "        except AttributeError:\n",
    "            raise RuntimeError(\"You must train classifer before predicting data!\")\n",
    "\n",
    "        return np.dot(X, self.w_)\n",
    "\n",
    "    def score(self, X, y):\n",
    "        try:\n",
    "            getattr(self, \"w_\")\n",
    "        except AttributeError:\n",
    "            raise RuntimeError(\"You must train classifer before predicting data!\")\n",
    "\n",
    "        return compute_sum_sqr_loss(X, y, self.w_)/len(y)"
   ]
  },
  {
   "cell_type": "markdown",
   "metadata": {},
   "source": [
    "We can compare to the `sklearn` implementation."
   ]
  },
  {
   "cell_type": "code",
   "execution_count": 9,
   "metadata": {},
   "outputs": [],
   "source": [
    "def compare_our_lasso_with_sklearn(X_train, y_train, l1_reg=1):\n",
    "    \n",
    "    # Fit with sklearn -- need to multiply l1_reg by 2*sample size, since they\n",
    "    # use a slightly different objective function.\n",
    "    n = X_train.shape[0]\n",
    "    sklearn_lasso = Lasso(alpha=2*n*l1_reg, fit_intercept=False, normalize=False)\n",
    "    sklearn_lasso.fit(X_train, y_train)\n",
    "    sklearn_lasso_coefs = sklearn_lasso.coef_\n",
    "    sklearn_lasso_preds = sklearn_lasso.predict(X_train)\n",
    "\n",
    "    # Now run our lasso regression and compare the coefficients to sklearn's\n",
    "    \n",
    "    model = LassoRegression(randomized=True)\n",
    "    model.fit(X_train, y_train,coef_init=None)\n",
    "    our_coefs = model.w_\n",
    "    lasso_regression_preds = model.predict(X_train)\n",
    "\n",
    "    # Let's compare differences in predictions\n",
    "    print(\"Hoping this is very close to 0 (predictions): {}\".format( np.mean((sklearn_lasso_preds - lasso_regression_preds)**2)))\n",
    "    # Let's compare differences parameter values\n",
    "    print(\"Hoping this is very close to 0: {}\".format(np.sum((our_coefs - sklearn_lasso_coefs)**2)))"
   ]
  },
  {
   "cell_type": "code",
   "execution_count": 10,
   "metadata": {},
   "outputs": [
    {
     "name": "stderr",
     "output_type": "stream",
     "text": [
      "/opt/conda/envs/dsga-1003/lib/python3.7/site-packages/ipykernel_launcher.py:20: RuntimeWarning: invalid value encountered in double_scalars\n",
      "/opt/conda/envs/dsga-1003/lib/python3.7/site-packages/ipykernel_launcher.py:20: RuntimeWarning: divide by zero encountered in double_scalars\n"
     ]
    },
    {
     "name": "stdout",
     "output_type": "stream",
     "text": [
      "Ran for 662 epochs. Lowest loss: 16.19773806585367\n",
      "Hoping this is very close to 0 (predictions): 3.4346941284451464\n",
      "Hoping this is very close to 0: 1.504649071501123\n"
     ]
    }
   ],
   "source": [
    "compare_our_lasso_with_sklearn(X_train, y_train, l1_reg=1)"
   ]
  },
  {
   "cell_type": "markdown",
   "metadata": {},
   "source": [
    "#### Grid Search to Tune Hyperparameter"
   ]
  },
  {
   "cell_type": "markdown",
   "metadata": {},
   "source": [
    "Now let's use sklearn to help us do hyperparameter tuning\n",
    "GridSearchCv.fit by default splits the data into training and\n",
    "validation itself; we want to use our own splits, so we need to stack our\n",
    "training and validation sets together, and supply an index\n",
    "(validation_fold) to specify which entries are train and which are\n",
    "validation."
   ]
  },
  {
   "cell_type": "code",
   "execution_count": 11,
   "metadata": {},
   "outputs": [],
   "source": [
    "default_params = [0.000001, 0.00001, 0.0001, 0.001, 0.01, 0.1, 1., 1.3, 1.6, 1.9, 2.2, 2.5, 2.8]\n",
    "\n",
    "def do_grid_search_lasso(X_train, y_train, X_val, y_val,params = default_params):\n",
    "\tX_train_val = np.vstack((X_train, X_val))\n",
    "\ty_train_val = np.concatenate((y_train, y_val))\n",
    "\tval_fold = [-1]*len(X_train) + [0]*len(X_val) #0 corresponds to validation\n",
    "\n",
    "\tparam_grid = [{'l1_reg':params}]\n",
    "\n",
    "\tlasso_regression_estimator = LassoRegression(randomized=True)\n",
    "\tgrid = GridSearchCV(lasso_regression_estimator,\n",
    "\t\t\t\t\t\tparam_grid,\n",
    "\t\t\t\t\t\treturn_train_score=True,\n",
    "\t\t\t\t\t\tcv = PredefinedSplit(test_fold=val_fold),\n",
    "\t\t\t\t\t\trefit = True,\n",
    "\t\t\t\t\t\tscoring = make_scorer(mean_squared_error,\n",
    "\t\t\t\t\t\t\t\t\t\t\t  greater_is_better = False))\n",
    "\tgrid.fit(X_train_val, y_train_val)\n",
    "\n",
    "\tdf = pd.DataFrame(grid.cv_results_)\n",
    "\t# Flip sign of score back, because GridSearchCV likes to maximize,\n",
    "\t# so it flips the sign of the score if \"greater_is_better=FALSE\"\n",
    "\tdf['mean_test_score'] = -df['mean_test_score']\n",
    "\tdf['mean_train_score'] = -df['mean_train_score']\n",
    "\tcols_to_keep = [\"param_l1_reg\", \"mean_test_score\",\"mean_train_score\"]\n",
    "\tdf_toshow = df[cols_to_keep].fillna('-')\n",
    "\tdf_toshow = df_toshow.sort_values(by=[\"param_l1_reg\"])\n",
    "\treturn grid, df_toshow"
   ]
  },
  {
   "cell_type": "code",
   "execution_count": 12,
   "metadata": {},
   "outputs": [
    {
     "name": "stdout",
     "output_type": "stream",
     "text": [
      "Ran for 1 epochs. Lowest loss: 0.6752223426032413\n"
     ]
    },
    {
     "name": "stderr",
     "output_type": "stream",
     "text": [
      "/opt/conda/envs/dsga-1003/lib/python3.7/site-packages/ipykernel_launcher.py:20: RuntimeWarning: invalid value encountered in double_scalars\n",
      "/opt/conda/envs/dsga-1003/lib/python3.7/site-packages/ipykernel_launcher.py:20: RuntimeWarning: divide by zero encountered in double_scalars\n",
      "/opt/conda/envs/dsga-1003/lib/python3.7/site-packages/ipykernel_launcher.py:20: RuntimeWarning: invalid value encountered in double_scalars\n",
      "/opt/conda/envs/dsga-1003/lib/python3.7/site-packages/ipykernel_launcher.py:20: RuntimeWarning: divide by zero encountered in double_scalars\n",
      "/opt/conda/envs/dsga-1003/lib/python3.7/site-packages/ipykernel_launcher.py:20: RuntimeWarning: invalid value encountered in double_scalars\n",
      "/opt/conda/envs/dsga-1003/lib/python3.7/site-packages/ipykernel_launcher.py:20: RuntimeWarning: divide by zero encountered in double_scalars\n"
     ]
    },
    {
     "name": "stdout",
     "output_type": "stream",
     "text": [
      "Ran for 1 epochs. Lowest loss: 0.6755576054044078\n",
      "Ran for 10 epochs. Lowest loss: 0.6789098853912399\n"
     ]
    },
    {
     "name": "stderr",
     "output_type": "stream",
     "text": [
      "/opt/conda/envs/dsga-1003/lib/python3.7/site-packages/ipykernel_launcher.py:20: RuntimeWarning: invalid value encountered in double_scalars\n",
      "/opt/conda/envs/dsga-1003/lib/python3.7/site-packages/ipykernel_launcher.py:20: RuntimeWarning: divide by zero encountered in double_scalars\n"
     ]
    },
    {
     "name": "stdout",
     "output_type": "stream",
     "text": [
      "Ran for 141 epochs. Lowest loss: 0.7123821721344291\n"
     ]
    },
    {
     "name": "stderr",
     "output_type": "stream",
     "text": [
      "/opt/conda/envs/dsga-1003/lib/python3.7/site-packages/ipykernel_launcher.py:20: RuntimeWarning: invalid value encountered in double_scalars\n",
      "/opt/conda/envs/dsga-1003/lib/python3.7/site-packages/ipykernel_launcher.py:20: RuntimeWarning: divide by zero encountered in double_scalars\n"
     ]
    },
    {
     "name": "stdout",
     "output_type": "stream",
     "text": [
      "Ran for 545 epochs. Lowest loss: 1.0422438085622936\n"
     ]
    },
    {
     "name": "stderr",
     "output_type": "stream",
     "text": [
      "/opt/conda/envs/dsga-1003/lib/python3.7/site-packages/ipykernel_launcher.py:20: RuntimeWarning: invalid value encountered in double_scalars\n",
      "/opt/conda/envs/dsga-1003/lib/python3.7/site-packages/ipykernel_launcher.py:20: RuntimeWarning: divide by zero encountered in double_scalars\n"
     ]
    },
    {
     "name": "stdout",
     "output_type": "stream",
     "text": [
      "Ran for 965 epochs. Lowest loss: 3.9049742926436295\n"
     ]
    },
    {
     "name": "stderr",
     "output_type": "stream",
     "text": [
      "/opt/conda/envs/dsga-1003/lib/python3.7/site-packages/ipykernel_launcher.py:20: RuntimeWarning: invalid value encountered in double_scalars\n",
      "/opt/conda/envs/dsga-1003/lib/python3.7/site-packages/ipykernel_launcher.py:20: RuntimeWarning: divide by zero encountered in double_scalars\n"
     ]
    },
    {
     "name": "stdout",
     "output_type": "stream",
     "text": [
      "Ran for 646 epochs. Lowest loss: 16.19773804234723\n"
     ]
    },
    {
     "name": "stderr",
     "output_type": "stream",
     "text": [
      "/opt/conda/envs/dsga-1003/lib/python3.7/site-packages/ipykernel_launcher.py:20: RuntimeWarning: invalid value encountered in double_scalars\n",
      "/opt/conda/envs/dsga-1003/lib/python3.7/site-packages/ipykernel_launcher.py:20: RuntimeWarning: divide by zero encountered in double_scalars\n"
     ]
    },
    {
     "name": "stdout",
     "output_type": "stream",
     "text": [
      "Ran for 663 epochs. Lowest loss: 18.20873769299461\n"
     ]
    },
    {
     "name": "stderr",
     "output_type": "stream",
     "text": [
      "/opt/conda/envs/dsga-1003/lib/python3.7/site-packages/ipykernel_launcher.py:20: RuntimeWarning: invalid value encountered in double_scalars\n",
      "/opt/conda/envs/dsga-1003/lib/python3.7/site-packages/ipykernel_launcher.py:20: RuntimeWarning: divide by zero encountered in double_scalars\n"
     ]
    },
    {
     "name": "stdout",
     "output_type": "stream",
     "text": [
      "Ran for 646 epochs. Lowest loss: 20.146332086459903\n"
     ]
    },
    {
     "name": "stderr",
     "output_type": "stream",
     "text": [
      "/opt/conda/envs/dsga-1003/lib/python3.7/site-packages/ipykernel_launcher.py:20: RuntimeWarning: invalid value encountered in double_scalars\n",
      "/opt/conda/envs/dsga-1003/lib/python3.7/site-packages/ipykernel_launcher.py:20: RuntimeWarning: divide by zero encountered in double_scalars\n"
     ]
    },
    {
     "name": "stdout",
     "output_type": "stream",
     "text": [
      "Ran for 674 epochs. Lowest loss: 22.016046580608936\n"
     ]
    },
    {
     "name": "stderr",
     "output_type": "stream",
     "text": [
      "/opt/conda/envs/dsga-1003/lib/python3.7/site-packages/ipykernel_launcher.py:20: RuntimeWarning: invalid value encountered in double_scalars\n",
      "/opt/conda/envs/dsga-1003/lib/python3.7/site-packages/ipykernel_launcher.py:20: RuntimeWarning: divide by zero encountered in double_scalars\n"
     ]
    },
    {
     "name": "stdout",
     "output_type": "stream",
     "text": [
      "Ran for 638 epochs. Lowest loss: 23.818255203736737\n"
     ]
    },
    {
     "name": "stderr",
     "output_type": "stream",
     "text": [
      "/opt/conda/envs/dsga-1003/lib/python3.7/site-packages/ipykernel_launcher.py:20: RuntimeWarning: invalid value encountered in double_scalars\n",
      "/opt/conda/envs/dsga-1003/lib/python3.7/site-packages/ipykernel_launcher.py:20: RuntimeWarning: divide by zero encountered in double_scalars\n"
     ]
    },
    {
     "name": "stdout",
     "output_type": "stream",
     "text": [
      "Ran for 658 epochs. Lowest loss: 25.559311005849157\n"
     ]
    },
    {
     "name": "stderr",
     "output_type": "stream",
     "text": [
      "/opt/conda/envs/dsga-1003/lib/python3.7/site-packages/ipykernel_launcher.py:20: RuntimeWarning: invalid value encountered in double_scalars\n",
      "/opt/conda/envs/dsga-1003/lib/python3.7/site-packages/ipykernel_launcher.py:20: RuntimeWarning: divide by zero encountered in double_scalars\n"
     ]
    },
    {
     "name": "stdout",
     "output_type": "stream",
     "text": [
      "Ran for 643 epochs. Lowest loss: 27.242934055616693\n",
      "Ran for 1000 epochs. Lowest loss: 92.81070262473658\n"
     ]
    }
   ],
   "source": [
    "grid, results = do_grid_search_lasso(X_train, y_train, X_val, y_val)"
   ]
  },
  {
   "cell_type": "code",
   "execution_count": 13,
   "metadata": {},
   "outputs": [
    {
     "data": {
      "text/html": [
       "<div>\n",
       "<style scoped>\n",
       "    .dataframe tbody tr th:only-of-type {\n",
       "        vertical-align: middle;\n",
       "    }\n",
       "\n",
       "    .dataframe tbody tr th {\n",
       "        vertical-align: top;\n",
       "    }\n",
       "\n",
       "    .dataframe thead th {\n",
       "        text-align: right;\n",
       "    }\n",
       "</style>\n",
       "<table border=\"1\" class=\"dataframe\">\n",
       "  <thead>\n",
       "    <tr style=\"text-align: right;\">\n",
       "      <th></th>\n",
       "      <th>param_l1_reg</th>\n",
       "      <th>mean_test_score</th>\n",
       "      <th>mean_train_score</th>\n",
       "    </tr>\n",
       "  </thead>\n",
       "  <tbody>\n",
       "    <tr>\n",
       "      <th>0</th>\n",
       "      <td>0.000001</td>\n",
       "      <td>0.172590</td>\n",
       "      <td>0.006752</td>\n",
       "    </tr>\n",
       "    <tr>\n",
       "      <th>1</th>\n",
       "      <td>0.000010</td>\n",
       "      <td>0.172589</td>\n",
       "      <td>0.006752</td>\n",
       "    </tr>\n",
       "    <tr>\n",
       "      <th>2</th>\n",
       "      <td>0.000100</td>\n",
       "      <td>0.172574</td>\n",
       "      <td>0.006752</td>\n",
       "    </tr>\n",
       "    <tr>\n",
       "      <th>3</th>\n",
       "      <td>0.001000</td>\n",
       "      <td>0.172423</td>\n",
       "      <td>0.006752</td>\n",
       "    </tr>\n",
       "    <tr>\n",
       "      <th>4</th>\n",
       "      <td>0.010000</td>\n",
       "      <td>0.170939</td>\n",
       "      <td>0.006805</td>\n",
       "    </tr>\n",
       "    <tr>\n",
       "      <th>5</th>\n",
       "      <td>0.100000</td>\n",
       "      <td>0.158959</td>\n",
       "      <td>0.011139</td>\n",
       "    </tr>\n",
       "    <tr>\n",
       "      <th>6</th>\n",
       "      <td>1.000000</td>\n",
       "      <td>0.126981</td>\n",
       "      <td>0.091950</td>\n",
       "    </tr>\n",
       "    <tr>\n",
       "      <th>7</th>\n",
       "      <td>1.300000</td>\n",
       "      <td>0.124774</td>\n",
       "      <td>0.096655</td>\n",
       "    </tr>\n",
       "    <tr>\n",
       "      <th>8</th>\n",
       "      <td>1.600000</td>\n",
       "      <td>0.126586</td>\n",
       "      <td>0.099935</td>\n",
       "    </tr>\n",
       "    <tr>\n",
       "      <th>9</th>\n",
       "      <td>1.900000</td>\n",
       "      <td>0.127556</td>\n",
       "      <td>0.103894</td>\n",
       "    </tr>\n",
       "    <tr>\n",
       "      <th>10</th>\n",
       "      <td>2.200000</td>\n",
       "      <td>0.128132</td>\n",
       "      <td>0.108347</td>\n",
       "    </tr>\n",
       "    <tr>\n",
       "      <th>11</th>\n",
       "      <td>2.500000</td>\n",
       "      <td>0.130583</td>\n",
       "      <td>0.112945</td>\n",
       "    </tr>\n",
       "    <tr>\n",
       "      <th>12</th>\n",
       "      <td>2.800000</td>\n",
       "      <td>0.132467</td>\n",
       "      <td>0.117907</td>\n",
       "    </tr>\n",
       "  </tbody>\n",
       "</table>\n",
       "</div>"
      ],
      "text/plain": [
       "    param_l1_reg  mean_test_score  mean_train_score\n",
       "0       0.000001         0.172590          0.006752\n",
       "1       0.000010         0.172589          0.006752\n",
       "2       0.000100         0.172574          0.006752\n",
       "3       0.001000         0.172423          0.006752\n",
       "4       0.010000         0.170939          0.006805\n",
       "5       0.100000         0.158959          0.011139\n",
       "6       1.000000         0.126981          0.091950\n",
       "7       1.300000         0.124774          0.096655\n",
       "8       1.600000         0.126586          0.099935\n",
       "9       1.900000         0.127556          0.103894\n",
       "10      2.200000         0.128132          0.108347\n",
       "11      2.500000         0.130583          0.112945\n",
       "12      2.800000         0.132467          0.117907"
      ]
     },
     "execution_count": 13,
     "metadata": {},
     "output_type": "execute_result"
    }
   ],
   "source": [
    "results"
   ]
  },
  {
   "cell_type": "code",
   "execution_count": 14,
   "metadata": {},
   "outputs": [
    {
     "data": {
      "image/png": "[encoded data removed]",
      "text/plain": [
       "<Figure size 576x432 with 1 Axes>"
      ]
     },
     "metadata": {
      "needs_background": "light"
     },
     "output_type": "display_data"
    }
   ],
   "source": [
    "# Plot validation performance vs regularization parameter\n",
    "\n",
    "fig, ax = plt.subplots(figsize = (8,6))\n",
    "ax.grid()\n",
    "ax.set_title(\"Validation Performance vs L1 Regularization\")\n",
    "ax.set_xlabel(\"L1-Penalty Regularization Parameter\")\n",
    "ax.set_ylabel(\"Mean Squared Error\")\n",
    "\n",
    "ax.semilogx(results[\"param_l1_reg\"], results[\"mean_test_score\"])\n",
    "\n",
    "ax.text(0.005,0.17,\"Best parameter {0}\".format(grid.best_params_['l1_reg']), fontsize = 12);"
   ]
  },
  {
   "cell_type": "markdown",
   "metadata": {},
   "source": [
    "As we can see, the best parameter is 1 with ridge solution initialization and randomization."
   ]
  },
  {
   "cell_type": "markdown",
   "metadata": {},
   "source": [
    "#### Comparing to the Target Function"
   ]
  },
  {
   "cell_type": "markdown",
   "metadata": {},
   "source": [
    "Let's plot prediction functions and compare coefficients for several fits and the target function.\n",
    "\n",
    "\n",
    "Let's create a list of dicts called `pred_fns`. Each dict has a \"name\" key and a\n",
    "\"preds\" key. The value corresponding to the \"preds\" key is an array of\n",
    "predictions corresponding to the input vector x. x_train and y_train are\n",
    "the input and output values for the training data"
   ]
  },
  {
   "cell_type": "code",
   "execution_count": 15,
   "metadata": {},
   "outputs": [
    {
     "name": "stderr",
     "output_type": "stream",
     "text": [
      "/opt/conda/envs/dsga-1003/lib/python3.7/site-packages/ipykernel_launcher.py:20: RuntimeWarning: invalid value encountered in double_scalars\n",
      "/opt/conda/envs/dsga-1003/lib/python3.7/site-packages/ipykernel_launcher.py:20: RuntimeWarning: divide by zero encountered in double_scalars\n"
     ]
    },
    {
     "name": "stdout",
     "output_type": "stream",
     "text": [
      "Ran for 830 epochs. Lowest loss: 3.9049738772510736\n",
      "Ran for 717 epochs. Lowest loss: 18.208737675700142\n",
      "Ran for 730 epochs. Lowest loss: 16.19773806144752\n"
     ]
    }
   ],
   "source": [
    "pred_fns = []\n",
    "x = np.sort(np.concatenate([np.arange(0,1,.001), x_train]))\n",
    "\n",
    "pred_fns.append({\"name\": \"Target Function\", \"coefs\": coefs_true, \"preds\": target_fn(x)})\n",
    "\n",
    "l1regs = [0.1, grid.best_params_['l1_reg'], 1]\n",
    "X = featurize(x)\n",
    "for l1reg in l1regs:\n",
    "    lasso_regression_estimator = LassoRegression(l1_reg=l1reg)\n",
    "    lasso_regression_estimator.fit(X_train, y_train)\n",
    "    name = \"Lasso with L1Reg=\"+str(l1reg)\n",
    "    pred_fns.append({\"name\":name,\n",
    "                     \"coefs\":lasso_regression_estimator.w_,\n",
    "                     \"preds\": lasso_regression_estimator.predict(X) })"
   ]
  },
  {
   "cell_type": "code",
   "execution_count": 16,
   "metadata": {},
   "outputs": [],
   "source": [
    "def plot_prediction_functions(x, pred_fns, x_train, y_train, legend_loc=\"best\"):\n",
    "\n",
    "\tfig, ax = plt.subplots(figsize = (12,8))\n",
    "\tax.set_xlabel('Input Space: [0,1)')\n",
    "\tax.set_ylabel('Action/Outcome Space')\n",
    "\tax.set_title(\"Prediction Functions\")\n",
    "\tplt.scatter(x_train, y_train, color=\"k\", label='Training data')\n",
    "\tfor i in range(len(pred_fns)):\n",
    "\t\tax.plot(x, pred_fns[i][\"preds\"], label=pred_fns[i][\"name\"])\n",
    "\tlegend = ax.legend(loc=legend_loc, shadow=True)\n",
    "\treturn fig"
   ]
  },
  {
   "cell_type": "code",
   "execution_count": 17,
   "metadata": {},
   "outputs": [
    {
     "data": {
      "image/png": "[encoded data removed]",
      "text/plain": [
       "<Figure size 864x576 with 1 Axes>"
      ]
     },
     "metadata": {
      "needs_background": "light"
     },
     "output_type": "display_data"
    }
   ],
   "source": [
    "plot_prediction_functions(x, pred_fns, x_train, y_train, legend_loc=\"best\");"
   ]
  },
  {
   "cell_type": "markdown",
   "metadata": {},
   "source": [
    "#### Visualizing the Weights\n",
    "\n",
    "Using `pred_fns` let's try to see how sparse the weights are... "
   ]
  },
  {
   "cell_type": "code",
   "execution_count": 18,
   "metadata": {},
   "outputs": [],
   "source": [
    "def compare_parameter_vectors(pred_fns):\n",
    "\n",
    "\tfig, axs = plt.subplots(len(pred_fns),1, sharex=True, figsize = (20,20))\n",
    "\tnum_ftrs = len(pred_fns[0][\"coefs\"])\n",
    "\tfor i in range(len(pred_fns)):\n",
    "\t\ttitle = pred_fns[i][\"name\"]\n",
    "\t\tcoef_vals = pred_fns[i][\"coefs\"]\n",
    "\t\taxs[i].bar(range(num_ftrs), coef_vals, color = \"tab:purple\")\n",
    "\t\taxs[i].set_xlabel('Feature Index')\n",
    "\t\taxs[i].set_ylabel('Parameter Value')\n",
    "\t\taxs[i].set_title(title)\n",
    "\n",
    "\tfig.subplots_adjust(hspace=0.4)\n",
    "\treturn fig"
   ]
  },
  {
   "cell_type": "code",
   "execution_count": 19,
   "metadata": {},
   "outputs": [
    {
     "data": {
      "image/png": "[encoded data removed]",
      "text/plain": [
       "<Figure size 1440x1440 with 4 Axes>"
      ]
     },
     "metadata": {
      "needs_background": "light"
     },
     "output_type": "display_data"
    }
   ],
   "source": [
    "compare_parameter_vectors(pred_fns);"
   ]
  },
  {
   "cell_type": "markdown",
   "metadata": {},
   "source": [
    "As we can see, as l1_reg becomes larger, more and more features become 0's. This confirms that lasso regularization can be used as feauture selection as it removes the weights of the useless feautures according to the regularization parameter."
   ]
  },
  {
   "cell_type": "markdown",
   "metadata": {},
   "source": [
    "## Q4"
   ]
  },
  {
   "cell_type": "markdown",
   "metadata": {},
   "source": [
    "#### Continuation Method"
   ]
  },
  {
   "cell_type": "markdown",
   "metadata": {},
   "source": [
    "We compute the largest value of $\\lambda$ for which the weights can be nonzero."
   ]
  },
  {
   "cell_type": "code",
   "execution_count": 8,
   "metadata": {},
   "outputs": [],
   "source": [
    "def get_lambda_max_no_bias(X, y):\n",
    "    return 2 * np.max(np.abs(np.dot(y, X)))"
   ]
  },
  {
   "cell_type": "markdown",
   "metadata": {},
   "source": [
    "Use homotopy method to compute regularization path for LassoRegression."
   ]
  },
  {
   "cell_type": "code",
   "execution_count": 21,
   "metadata": {},
   "outputs": [],
   "source": [
    "from sklearn.base import clone\n",
    "\n",
    "class LassoRegularizationPath:\n",
    "    def __init__(self, estimator, tune_param_name):\n",
    "        self.estimator = estimator\n",
    "        self.tune_param_name = tune_param_name\n",
    "\n",
    "    def fit(self, X, y, reg_vals, coef_init=None, warm_start=True):\n",
    "        # reg_vals is a list of regularization parameter values to solve for.\n",
    "        # Solutions will be found in the order given by reg_vals.\n",
    "\n",
    "        #convert y to 1-dim array, in case we're given a column vector\n",
    "        y = y.reshape(-1)\n",
    "\n",
    "        if coef_init is not None:\n",
    "            coef_init = np.copy(coef_init)\n",
    "\n",
    "        self.results = []\n",
    "        for reg_val in reg_vals:\n",
    "            estimator = clone(self.estimator)\n",
    "            w, obj_val, epoch = shooting_algorithm(X, y, w0=coef_init, l1_reg=reg_val)\n",
    "            self.results.append({\"reg_val\":reg_val, \"estimator\":estimator,\"weights\":w})\n",
    "\n",
    "        return self\n",
    "\n",
    "    def predict(self, X, y=None):\n",
    "        predictions = []\n",
    "        for i in range(len(self.results)):\n",
    "            preds = self.results[i][\"estimator\"].predict(X)\n",
    "            reg_val = self.results[i][\"reg_val\"]\n",
    "            predictions.append({\"reg_val\":reg_val, \"preds\":preds})\n",
    "        return predictions\n",
    "\n",
    "    def score(self, X, y=None):\n",
    "        scores = []\n",
    "        for i in range(len(self.results)):\n",
    "            score = self.results[i][\"estimator\"].score(X, y)\n",
    "            reg_val = self.results[i][\"reg_val\"]\n",
    "            scores.append({\"reg_val\":reg_val, \"score\":score})\n",
    "        return scores"
   ]
  },
  {
   "cell_type": "code",
   "execution_count": 22,
   "metadata": {},
   "outputs": [],
   "source": [
    "def do_grid_search_homotopy(X_train, y_train, X_val, y_val,\n",
    "                            reg_vals=None, w0=None):\n",
    "    if reg_vals is None:\n",
    "        lambda_max = get_lambda_max_no_bias(X_train, y_train)\n",
    "        reg_vals = [lambda_max * (.8**n) for n in range(0, 30)]\n",
    "    \n",
    "    \n",
    "    estimator = LassoRegression()\n",
    "    lasso_reg_path_estimator = LassoRegularizationPath(estimator, tune_param_name=\"l1_reg\")\n",
    "    lasso_reg_path_estimator.fit(X_train, y_train,\n",
    "                                 reg_vals=reg_vals[:], coef_init=w0,\n",
    "                                 warm_start=True)\n",
    "    return lasso_reg_path_estimator, reg_vals"
   ]
  },
  {
   "cell_type": "code",
   "execution_count": 23,
   "metadata": {},
   "outputs": [
    {
     "name": "stderr",
     "output_type": "stream",
     "text": [
      "/opt/conda/envs/dsga-1003/lib/python3.7/site-packages/ipykernel_launcher.py:20: RuntimeWarning: invalid value encountered in double_scalars\n",
      "/opt/conda/envs/dsga-1003/lib/python3.7/site-packages/ipykernel_launcher.py:20: RuntimeWarning: divide by zero encountered in double_scalars\n"
     ]
    },
    {
     "name": "stdout",
     "output_type": "stream",
     "text": [
      "Ran for 1 epochs. Lowest loss: 359.6674002813196\n",
      "Ran for 594 epochs. Lowest loss: 348.52108633392805\n",
      "Ran for 653 epochs. Lowest loss: 323.5371648261513\n",
      "Ran for 582 epochs. Lowest loss: 293.22926498817293\n",
      "Ran for 732 epochs. Lowest loss: 262.2363733469605\n",
      "Ran for 731 epochs. Lowest loss: 231.30364707665956\n",
      "Ran for 733 epochs. Lowest loss: 202.0174855998118\n",
      "Ran for 734 epochs. Lowest loss: 175.6829689439503\n",
      "Ran for 736 epochs. Lowest loss: 152.73952248856375\n",
      "Ran for 737 epochs. Lowest loss: 133.12872423056882\n",
      "Ran for 737 epochs. Lowest loss: 116.62091784825118\n",
      "Ran for 738 epochs. Lowest loss: 102.89040535085165\n",
      "Ran for 739 epochs. Lowest loss: 91.40127989084868\n",
      "Ran for 740 epochs. Lowest loss: 80.59513459352864\n",
      "Ran for 741 epochs. Lowest loss: 70.6513115923515\n",
      "Ran for 742 epochs. Lowest loss: 61.83896929177382\n",
      "Ran for 743 epochs. Lowest loss: 54.081080014686314\n",
      "Ran for 740 epochs. Lowest loss: 47.326669350039296\n",
      "Ran for 731 epochs. Lowest loss: 41.56428608924523\n",
      "Ran for 765 epochs. Lowest loss: 36.697129451829106\n",
      "Ran for 820 epochs. Lowest loss: 32.323174118580575\n",
      "Ran for 838 epochs. Lowest loss: 28.43476228579073\n",
      "Ran for 834 epochs. Lowest loss: 25.071530450949826\n",
      "Ran for 794 epochs. Lowest loss: 22.211091306666702\n",
      "Ran for 809 epochs. Lowest loss: 19.79969729994602\n",
      "Ran for 818 epochs. Lowest loss: 17.789508949588427\n",
      "Ran for 824 epochs. Lowest loss: 16.121413410130746\n",
      "Ran for 926 epochs. Lowest loss: 14.563979329023843\n",
      "Ran for 932 epochs. Lowest loss: 12.993126648493345\n",
      "Ran for 935 epochs. Lowest loss: 11.487542080929062\n"
     ]
    }
   ],
   "source": [
    "lasso_reg_path_estimator, reg_vals = do_grid_search_homotopy(X_train, \n",
    "                                                             y_train, \n",
    "                                                             X_val, \n",
    "                                                             y_val, \n",
    "                                                             None)"
   ]
  },
  {
   "cell_type": "code",
   "execution_count": 24,
   "metadata": {},
   "outputs": [
    {
     "data": {
      "text/plain": [
       "Text(0.5, 1.0, 'average val loss')"
      ]
     },
     "execution_count": 24,
     "metadata": {},
     "output_type": "execute_result"
    },
    {
     "data": {
      "image/png": "[encoded data removed]",
      "text/plain": [
       "<Figure size 432x288 with 1 Axes>"
      ]
     },
     "metadata": {
      "needs_background": "light"
     },
     "output_type": "display_data"
    }
   ],
   "source": [
    "lasso_reg_path_estimator.results[0]\n",
    "rs = []\n",
    "losses = []\n",
    "for dic in lasso_reg_path_estimator.results:\n",
    "    rs.append(dic[\"reg_val\"])\n",
    "    losses.append(compute_sum_sqr_loss(X_val,y_val,dic[\"weights\"])/X_val.shape[0])\n",
    "    \n",
    "plt.plot(rs,losses,\"-o\")\n",
    "plt.xlabel(\"l1_reg\")\n",
    "plt.title(\"average val loss\")"
   ]
  },
  {
   "cell_type": "markdown",
   "metadata": {},
   "source": [
    "## Q5"
   ]
  },
  {
   "cell_type": "code",
   "execution_count": 25,
   "metadata": {},
   "outputs": [],
   "source": [
    "# Add an unregularized bias term\n",
    "X_train = np.hstack((X_train, np.ones((X_train.shape[0], 1)))) \n",
    "X_val = np.hstack((X_val, np.ones((X_val.shape[0], 1))))"
   ]
  },
  {
   "cell_type": "code",
   "execution_count": 26,
   "metadata": {},
   "outputs": [
    {
     "name": "stderr",
     "output_type": "stream",
     "text": [
      "/opt/conda/envs/dsga-1003/lib/python3.7/site-packages/ipykernel_launcher.py:20: RuntimeWarning: invalid value encountered in double_scalars\n",
      "/opt/conda/envs/dsga-1003/lib/python3.7/site-packages/ipykernel_launcher.py:20: RuntimeWarning: divide by zero encountered in double_scalars\n"
     ]
    },
    {
     "name": "stdout",
     "output_type": "stream",
     "text": [
      "Ran for 651 epochs. Lowest loss: 16.197738066251986\n",
      "Avg val loss for L1:  0.12473404392083155\n",
      "Avg val loss for L2:  0.1627421890227181\n"
     ]
    }
   ],
   "source": [
    "l1_reg = 1.\n",
    "l2_reg = 0.1\n",
    "\n",
    "lasso = LassoRegression(l1_reg=l1_reg,randomized=True)\n",
    "lasso.fit(X_train,y_train)\n",
    "print(\"Avg val loss for L1: \", lasso.score(X_val,y_val))\n",
    "\n",
    "ridge_sol = get_ridge_solution(X_train,y_train,l2_reg=l2_reg)\n",
    "print(\"Avg val loss for L2: \", compute_sum_sqr_loss(X_val,y_val,ridge_sol)/X_val.shape[0])"
   ]
  },
  {
   "cell_type": "markdown",
   "metadata": {},
   "source": [
    "We can see that adding an unregularized bias term by padding 1's is having the same effect in terms of avg val loss value comparing to our original setup. This confirms that we have to “pay for” this offset using our penalized parameters."
   ]
  },
  {
   "cell_type": "code",
   "execution_count": 27,
   "metadata": {},
   "outputs": [
    {
     "data": {
      "text/plain": [
       "0.03160551307882997"
      ]
     },
     "execution_count": 27,
     "metadata": {},
     "output_type": "execute_result"
    }
   ],
   "source": [
    "ridge_sol[-1]"
   ]
  },
  {
   "cell_type": "markdown",
   "metadata": {},
   "source": [
    "For example in the ridge solution, we can see that the last weight ($w_{d+1}$) corresponding to the unregularized bias term is nonzero."
   ]
  },
  {
   "cell_type": "markdown",
   "metadata": {},
   "source": [
    "#### Projected SGD"
   ]
  },
  {
   "cell_type": "markdown",
   "metadata": {},
   "source": [
    "## Q1"
   ]
  },
  {
   "cell_type": "code",
   "execution_count": 50,
   "metadata": {},
   "outputs": [],
   "source": [
    "def projection_SGD_split(X, y, theta_positive_0, theta_negative_0, lambda_reg = 1.0, alpha = 0.1, num_iter = 1000):\n",
    "    m, n = X.shape\n",
    "    theta_positive = np.zeros(n)\n",
    "    theta_negative = np.zeros(n)\n",
    "    theta_positive[0:n] = theta_positive_0\n",
    "    theta_negative[0:n] = theta_negative_0\n",
    "    times = 0\n",
    "    theta = theta_positive - theta_negative\n",
    "    loss = compute_sum_sqr_loss(X, y, theta)/X.shape[0]\n",
    "    loss_change = 1.\n",
    "    while (loss_change>1e-6) and (times<num_iter):\n",
    "        loss_old = loss\n",
    "        for i in range(m):\n",
    "            for j in range(n):\n",
    "                if theta_positive[j]:\n",
    "                    theta_positive[j] -= alpha*2*((np.dot(theta_positive-theta_negative,X[i])-y[i])*X[i][j]+lambda_reg) \n",
    "                else:\n",
    "                    theta_positive[j] -= alpha*2*((np.dot(theta_positive-theta_negative,X[i])-y[i])*X[i][j])\n",
    "                if theta_negative[j]:\n",
    "                    theta_negative[j] -= alpha*2*((np.dot(theta_positive-theta_negative,X[i])-y[i])*(-X[i][j])+lambda_reg)\n",
    "                else:\n",
    "                    theta_negative[j] -= alpha*2*((np.dot(theta_positive-theta_negative,X[i])-y[i])*(-X[i][j]))\n",
    "                \n",
    "            #theta_positive -= alpha*2*(np.dot(theta_positive-theta_negative,X[i])-y[i])*X[i]\n",
    "            #theta_negative -= alpha*2*(np.dot(theta_positive-theta_negative,X[i])-y[i])*-(X[i])\n",
    "            np.clip(theta_positive, 0., None)\n",
    "            np.clip(theta_negative, 0., None)\n",
    "            theta = theta_positive - theta_negative\n",
    "        loss = compute_sum_sqr_loss(X, y, theta)/X.shape[0]\n",
    "        #print(loss)\n",
    "        loss_change = loss_old - loss#np.abs(loss - loss_old)\n",
    "        times +=1\n",
    "\n",
    "    print('(SGD) Ran for {} epochs. Loss:{} Lambda: {}'.format(times,loss,lambda_reg))\n",
    "    return theta\n",
    "\n",
    "\n",
    "\n",
    "#theta_positive += -alpha*(2*np.dot(X.T,np.dot(X,theta_positive-theta_negative)-y)/X.shape[0] + np.array([lambda_reg if i else 0. for i in theta_positive]))\n",
    "#theta_negative += -alpha*(2*np.dot(-X.T,np.dot(X,theta_positive-theta_negative)-y)/X.shape[0] + np.array([lambda_reg if i else 0. for i in theta_negative]))\n",
    "#print(theta_positive)\n",
    "#print(theta_negative)\n",
    "#np.clip(theta_positive, 0., None)\n",
    "#np.clip(theta_negative, 0., None)\n",
    "#theta = theta_positive - theta_negative\n",
    "#print(theta)"
   ]
  },
  {
   "cell_type": "code",
   "execution_count": 51,
   "metadata": {},
   "outputs": [
    {
     "name": "stdout",
     "output_type": "stream",
     "text": [
      "(SGD) Ran for 30 epochs. Loss:1.402028509912859 Lambda: 0.08639124693688116\n"
     ]
    },
    {
     "name": "stderr",
     "output_type": "stream",
     "text": [
      "/opt/conda/envs/dsga-1003/lib/python3.7/site-packages/ipykernel_launcher.py:20: RuntimeWarning: invalid value encountered in double_scalars\n",
      "/opt/conda/envs/dsga-1003/lib/python3.7/site-packages/ipykernel_launcher.py:20: RuntimeWarning: divide by zero encountered in double_scalars\n"
     ]
    },
    {
     "name": "stdout",
     "output_type": "stream",
     "text": [
      "Ran for 1000 epochs. Lowest loss: 3.5178841123598166\n",
      "(SGD) Ran for 31 epochs. Loss:1.3746442831273407 Lambda: 0.05183474816212869\n",
      "Ran for 1000 epochs. Lowest loss: 2.4648530491515035\n",
      "(SGD) Ran for 31 epochs. Loss:1.349870066287359 Lambda: 0.03110084889727721\n",
      "Ran for 1000 epochs. Lowest loss: 1.781887325644532\n",
      "(SGD) Ran for 31 epochs. Loss:1.3416890233973284 Lambda: 0.01866050933836633\n",
      "Ran for 1000 epochs. Lowest loss: 1.3515108201528356\n",
      "(SGD) Ran for 32 epochs. Loss:1.339546440418353 Lambda: 0.011196305603019797\n",
      "Ran for 1000 epochs. Lowest loss: 1.0854433720625416\n",
      "(SGD) Ran for 32 epochs. Loss:1.3354908978891746 Lambda: 0.006717783361811878\n",
      "Ran for 1000 epochs. Lowest loss: 0.9229608309275833\n",
      "(SGD) Ran for 32 epochs. Loss:1.3331566689934982 Lambda: 0.004030670017087127\n",
      "Ran for 1000 epochs. Lowest loss: 0.8244451040361851\n",
      "(SGD) Ran for 32 epochs. Loss:1.3317868975355374 Lambda: 0.0024184020102522756\n",
      "Ran for 1000 epochs. Lowest loss: 0.7649593498421838\n",
      "(SGD) Ran for 32 epochs. Loss:1.330934159108682 Lambda: 0.0014510412061513652\n",
      "Ran for 1000 epochs. Lowest loss: 0.7291304075451188\n",
      "(SGD) Ran for 32 epochs. Loss:1.330209314507957 Lambda: 0.0008706247236908191\n",
      "Ran for 1000 epochs. Lowest loss: 0.7075834082913903\n"
     ]
    }
   ],
   "source": [
    "x_training, y_training, x_validation, y_validation, target_fn, coefs_true, featurize = load_problem(PICKLE_PATH)\n",
    "X_training = featurize(x_training)\n",
    "X_validation = featurize(x_validation)\n",
    "D = X_training.shape[1]\n",
    "\n",
    "lambda_max = get_lambda_max_no_bias(x_training, y_training)\n",
    "reg_vals = [lambda_max * (.6**n) for n in range(15, 25)]\n",
    "\n",
    "loss_SGD_list = []\n",
    "loss_shooting = []\n",
    "loss_GD_list = []\n",
    "    \n",
    "for lambda_value in reg_vals:\n",
    "    theta_projected =  projection_SGD_split(X_training, y_training, np.zeros(X_training.shape[1]), np.zeros(X_training.shape[1]), lambda_reg = lambda_value, alpha = 0.1, num_iter = 1000)\n",
    "    loss_SGD_list.append(compute_sum_sqr_loss(X_validation,y_validation,theta_projected)/X_validation.shape[0])\n",
    "    theta_shooting, _, _ = shooting_algorithm(X_training, y_training, w0=None, l1_reg = lambda_value, max_num_epochs = 1000, min_obj_decrease=1e-8, random=False)\n",
    "    loss_shooting.append(compute_sum_sqr_loss(X_validation,y_validation,theta_shooting)/X_validation.shape[0])"
   ]
  },
  {
   "cell_type": "code",
   "execution_count": 52,
   "metadata": {},
   "outputs": [
    {
     "data": {
      "image/png": "[encoded data removed]",
      "text/plain": [
       "<Figure size 576x432 with 1 Axes>"
      ]
     },
     "metadata": {
      "needs_background": "light"
     },
     "output_type": "display_data"
    }
   ],
   "source": [
    "# Plot validation performance vs regularization parameter\n",
    "\n",
    "fig, ax = plt.subplots(figsize = (8,6))\n",
    "ax.grid()\n",
    "ax.set_title(\"Validation Performance vs L1 Regularization\")\n",
    "ax.set_xlabel(\"L1-Penalty Regularization Parameter\")\n",
    "ax.set_ylabel(\"Mean Squared Error\")\n",
    "\n",
    "plt.semilogx(reg_vals, loss_shooting, label = 'Shooting Method')\n",
    "plt.semilogx(reg_vals, loss_SGD_list, label = 'Projection SGD')\n",
    "plt.legend(loc='upper left')\n",
    "plt.show();"
   ]
  },
  {
   "cell_type": "code",
   "execution_count": 53,
   "metadata": {},
   "outputs": [
    {
     "ename": "NameError",
     "evalue": "name 'theta_positive_ini' is not defined",
     "output_type": "error",
     "traceback": [
      "\u001b[0;31m---------------------------------------------------------------------------\u001b[0m",
      "\u001b[0;31mNameError\u001b[0m                                 Traceback (most recent call last)",
      "\u001b[0;32m<ipython-input-53-4b3a1e2c9b2e>\u001b[0m in \u001b[0;36m<module>\u001b[0;34m\u001b[0m\n\u001b[1;32m      2\u001b[0m \u001b[0;34m\u001b[0m\u001b[0m\n\u001b[1;32m      3\u001b[0m \u001b[0mlambda_best_SGD\u001b[0m \u001b[0;34m=\u001b[0m \u001b[0mreg_vals\u001b[0m\u001b[0;34m[\u001b[0m\u001b[0mnp\u001b[0m\u001b[0;34m.\u001b[0m\u001b[0margmin\u001b[0m\u001b[0;34m(\u001b[0m\u001b[0mloss_SGD_list\u001b[0m\u001b[0;34m)\u001b[0m\u001b[0;34m]\u001b[0m\u001b[0;34m\u001b[0m\u001b[0;34m\u001b[0m\u001b[0m\n\u001b[0;32m----> 4\u001b[0;31m \u001b[0mtheta_lasso_SGD_best\u001b[0m \u001b[0;34m=\u001b[0m \u001b[0mprojection_SGD_split\u001b[0m\u001b[0;34m(\u001b[0m\u001b[0mX_training\u001b[0m\u001b[0;34m,\u001b[0m \u001b[0my_training\u001b[0m\u001b[0;34m,\u001b[0m \u001b[0mtheta_positive_ini\u001b[0m\u001b[0;34m,\u001b[0m \u001b[0mtheta_negative_ini\u001b[0m\u001b[0;34m,\u001b[0m \u001b[0mlambda_reg\u001b[0m\u001b[0;34m=\u001b[0m\u001b[0mlambda_best_SGD\u001b[0m\u001b[0;34m,\u001b[0m \u001b[0malpha\u001b[0m \u001b[0;34m=\u001b[0m \u001b[0;36m0.01\u001b[0m\u001b[0;34m)\u001b[0m\u001b[0;34m\u001b[0m\u001b[0;34m\u001b[0m\u001b[0m\n\u001b[0m\u001b[1;32m      5\u001b[0m \u001b[0mprint\u001b[0m\u001b[0;34m(\u001b[0m\u001b[0;34m'Best lambda for SGD is {0} with loss {1}'\u001b[0m\u001b[0;34m.\u001b[0m\u001b[0mformat\u001b[0m\u001b[0;34m(\u001b[0m\u001b[0mlambda_best_SGD\u001b[0m\u001b[0;34m,\u001b[0m \u001b[0mnp\u001b[0m\u001b[0;34m.\u001b[0m\u001b[0mmin\u001b[0m\u001b[0;34m(\u001b[0m\u001b[0mloss_SGD_list\u001b[0m\u001b[0;34m)\u001b[0m\u001b[0;34m)\u001b[0m\u001b[0;34m)\u001b[0m\u001b[0;34m\u001b[0m\u001b[0;34m\u001b[0m\u001b[0m\n",
      "\u001b[0;31mNameError\u001b[0m: name 'theta_positive_ini' is not defined"
     ]
    }
   ],
   "source": [
    "# Report the best \n",
    "\n",
    "lambda_best_SGD = reg_vals[np.argmin(loss_SGD_list)]\n",
    "theta_lasso_SGD_best = projection_SGD_split(X_training, y_training, theta_positive_ini, theta_negative_ini, lambda_reg=lambda_best_SGD, alpha = 0.01)\n",
    "print('Best lambda for SGD is {0} with loss {1}'.format(lambda_best_SGD, np.min(loss_SGD_list)))"
   ]
  },
  {
   "cell_type": "code",
   "execution_count": null,
   "metadata": {},
   "outputs": [],
   "source": []
  }
 ],
 "metadata": {
  "kernelspec": {
   "display_name": "Python [conda env:dsga-1003]",
   "language": "python",
   "name": "conda-env-dsga-1003-py"
  },
  "language_info": {
   "codemirror_mode": {
    "name": "ipython",
    "version": 3
   },
   "file_extension": ".py",
   "mimetype": "text/x-python",
   "name": "python",
   "nbconvert_exporter": "python",
   "pygments_lexer": "ipython3",
   "version": "3.7.6"
  }
 },
 "nbformat": 4,
 "nbformat_minor": 4
}
