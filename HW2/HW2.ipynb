{
 "cells": [
  {
   "cell_type": "markdown",
   "metadata": {},
   "source": [
    "# DS1003 HW2 Zian Jiang"
   ]
  },
  {
   "cell_type": "code",
   "execution_count": 1,
   "metadata": {},
   "outputs": [],
   "source": [
    "import sys\n",
    "import numpy as np\n",
    "import pandas as pd\n",
    "import matplotlib.pyplot as plt\n",
    "from sklearn.model_selection import train_test_split"
   ]
  },
  {
   "cell_type": "markdown",
   "metadata": {},
   "source": [
    "## Computing Risk "
   ]
  },
  {
   "cell_type": "markdown",
   "metadata": {},
   "source": [
    "### Q1"
   ]
  },
  {
   "cell_type": "markdown",
   "metadata": {},
   "source": [
    "### a"
   ]
  },
  {
   "cell_type": "markdown",
   "metadata": {},
   "source": [
    "$$E(\\Vert \\vec{x} \\Vert_2^2) = E(x_1^2 + ... + x_n^2) = E(x_1^2)+...+E(x_n^2) = \\frac{(4+4+1+1+0)n}{5} = 2n$$"
   ]
  },
  {
   "cell_type": "markdown",
   "metadata": {},
   "source": [
    "### b"
   ]
  },
  {
   "cell_type": "markdown",
   "metadata": {},
   "source": [
    "$$E(\\Vert \\vec{x} \\Vert_{\\infty}) = E(\\max_{i}(|x_i|))$$. $$P(|X|=0)=\\frac{1}{5},P(|X|=1)=\\frac{1}{5},P(|X|=2)=\\frac{2}{5}$$, so $$E(\\Vert \\vec{x} \\Vert_{\\infty}) = \\frac{1}{5} + 2*\\frac{2}{5} + 3*\\frac{2}{5} = \\frac{11}{5}$$\n"
   ]
  },
  {
   "cell_type": "markdown",
   "metadata": {},
   "source": [
    "### c"
   ]
  },
  {
   "cell_type": "markdown",
   "metadata": {},
   "source": [
    "$$cov(\\vec{x}) = \\text{np.diag(2*np.ones(n))}$$ since all $x_i$'s are i.i.d chosen ($cov(x_i,x_j)=0 \\forall i\\neq j$) and $cov(x_i,x_i)) = Var(x_i) = E(x_i^2) + 0 = 2.$"
   ]
  },
  {
   "cell_type": "markdown",
   "metadata": {},
   "source": [
    "### Q2"
   ]
  },
  {
   "cell_type": "markdown",
   "metadata": {},
   "source": [
    "### a"
   ]
  },
  {
   "cell_type": "markdown",
   "metadata": {},
   "source": [
    "Let $$MSE(a) = E((a-y)^2),$$ by definition of variance, we have $$MSE(a) = (E(a-y))^2 + Var(a-y) = (a-E(y))^2 + Var(y).$$ Thus, since only $y$ is random, we cannot minimize the value of $Var(y)$, which is the **_Bayes risk._** The best we can do is setting $a_* = E(y)$ to minimize the first term to $0$."
   ]
  },
  {
   "cell_type": "markdown",
   "metadata": {},
   "source": [
    "### b"
   ]
  },
  {
   "cell_type": "markdown",
   "metadata": {},
   "source": [
    "### i"
   ]
  },
  {
   "cell_type": "markdown",
   "metadata": {},
   "source": [
    "Following similar arguments in part a, $$E((a-y)^2|x) = (E(a-y)|x)^2 + Var(a-y|x) = = (a-E(y|x))^2 + Var(y|x).$$ Since $Var(y|x)$ we cannot minimize to 0, the best we can do is setting $a_* = E(y|x).$"
   ]
  },
  {
   "cell_type": "markdown",
   "metadata": {},
   "source": [
    "### ii"
   ]
  },
  {
   "cell_type": "markdown",
   "metadata": {},
   "source": [
    "We know $$\\forall x, E((a-y)^2|x) \\leq E((a-y)^2|x).$$ Then $$E(E((a-y)^2|x)) = E(E((a-y)^2|x))$$ is also true. By law of iteration, this means $$\\forall f, E((a-y)^2) \\leq E((f(x)-y)^2).$$"
   ]
  },
  {
   "cell_type": "markdown",
   "metadata": {},
   "source": [
    "## Linear Regression"
   ]
  },
  {
   "cell_type": "markdown",
   "metadata": {},
   "source": [
    "### Q1: Feature normalization"
   ]
  },
  {
   "cell_type": "code",
   "execution_count": 2,
   "metadata": {},
   "outputs": [],
   "source": [
    "def feature_normalization(train, test):\n",
    "    \"\"\"Rescale the data so that each feature in the training set is in\n",
    "    the interval [0,1], and apply the same transformations to the test\n",
    "    set, using the statistics computed on the training set.\n",
    "\n",
    "    Args:\n",
    "        train - training set, a 2D numpy array of size (num_instances, num_features)\n",
    "        test - test set, a 2D numpy array of size (num_instances, num_features)\n",
    "\n",
    "    Returns:\n",
    "        train_normalized - training set after normalization\n",
    "        test_normalized - test set after normalization\n",
    "    \"\"\"\n",
    "    indices = []\n",
    "    \n",
    "    for feature in range(train.shape[1]):\n",
    "        column = train[:,feature]\n",
    "        indices.append(~np.isclose(column, column[0]).all())\n",
    "        \n",
    "    train = train[:,indices]\n",
    "    test = test[:,indices]\n",
    "    mins = np.min(train,axis=0)\n",
    "    maxs = np.max(train,axis=0)\n",
    "    \n",
    "    train_normalized = (train-mins)/(maxs-mins)\n",
    "    test_normalized = (test-mins)/(maxs-mins)\n",
    "    \n",
    "    return train_normalized,test_normalized\n",
    "    "
   ]
  },
  {
   "cell_type": "markdown",
   "metadata": {},
   "source": [
    "### Q2"
   ]
  },
  {
   "cell_type": "markdown",
   "metadata": {},
   "source": [
    "### a"
   ]
  },
  {
   "cell_type": "markdown",
   "metadata": {},
   "source": [
    "$$J(\\theta) = ((X\\theta-Y)^T(X\\theta-Y))/n$$"
   ]
  },
  {
   "cell_type": "markdown",
   "metadata": {},
   "source": [
    "### b"
   ]
  },
  {
   "cell_type": "markdown",
   "metadata": {},
   "source": [
    "$$J'(\\theta) = 2 * \\text{np.mean}(X(X\\theta-Y))$$"
   ]
  },
  {
   "cell_type": "markdown",
   "metadata": {},
   "source": [
    "### c"
   ]
  },
  {
   "cell_type": "markdown",
   "metadata": {},
   "source": [
    "$$J(\\theta + \\eta h) - J(\\theta) \\approx \\eta h^TJ'(\\theta)$$"
   ]
  },
  {
   "cell_type": "markdown",
   "metadata": {},
   "source": [
    "### d"
   ]
  },
  {
   "cell_type": "markdown",
   "metadata": {},
   "source": [
    "$$\\theta^{t+1} := \\theta^{t} - \\eta J'(\\theta^{t})$$"
   ]
  },
  {
   "cell_type": "markdown",
   "metadata": {},
   "source": [
    "### e"
   ]
  },
  {
   "cell_type": "code",
   "execution_count": 3,
   "metadata": {},
   "outputs": [],
   "source": [
    "def compute_square_loss(X, y, theta):\n",
    "    \"\"\"\n",
    "    Given a set of X, y, theta, compute the average square loss for predicting y with X*theta.\n",
    "\n",
    "    Args:\n",
    "        X - the feature vector, 2D numpy array of size (num_instances, num_features)\n",
    "        y - the label vector, 1D numpy array of size (num_instances)\n",
    "        theta - the parameter vector, 1D array of size (num_features)\n",
    "\n",
    "    Returns:\n",
    "        loss - the average square loss, scalar\n",
    "    \"\"\"\n",
    "    return np.dot(np.transpose(np.dot(X,theta)-y),np.dot(X,theta)-y)/y.shape[0]"
   ]
  },
  {
   "cell_type": "markdown",
   "metadata": {},
   "source": [
    "### f"
   ]
  },
  {
   "cell_type": "code",
   "execution_count": 4,
   "metadata": {},
   "outputs": [],
   "source": [
    "def compute_square_loss_gradient(X, y, theta):\n",
    "    \"\"\"\n",
    "    Compute the gradient of the average square loss (as defined in compute_square_loss), at the point theta.\n",
    "\n",
    "    Args:\n",
    "        X - the feature vector, 2D numpy array of size (num_instances, num_features)\n",
    "        y - the label vector, 1D numpy array of size (num_instances)\n",
    "        theta - the parameter vector, 1D numpy array of size (num_features)\n",
    "\n",
    "    Returns:\n",
    "        grad - gradient vector, 1D numpy array of size (num_features)\n",
    "    \"\"\"\n",
    "    \n",
    "    return 2 * np.mean((np.dot(X,theta)-y).reshape(-1,1)*X,axis=0) \n",
    "    "
   ]
  },
  {
   "cell_type": "markdown",
   "metadata": {},
   "source": [
    "### Q3"
   ]
  },
  {
   "cell_type": "code",
   "execution_count": 5,
   "metadata": {},
   "outputs": [],
   "source": [
    "def grad_checker(X, y, theta, epsilon=0.01, tolerance=1e-4):\n",
    "    \"\"\"Implement Gradient Checker\n",
    "    Check that the function compute_square_loss_gradient returns the\n",
    "    correct gradient for the given X, y, and theta.\n",
    "\n",
    "    Let d be the number of features. Here we numerically estimate the\n",
    "    gradient by approximating the directional derivative in each of\n",
    "    the d coordinate directions:\n",
    "    (e_1 = (1,0,0,...,0), e_2 = (0,1,0,...,0), ..., e_d = (0,...,0,1))\n",
    "\n",
    "    The approximation for the directional derivative of J at the point\n",
    "    theta in the direction e_i is given by:\n",
    "    ( J(theta + epsilon * e_i) - J(theta - epsilon * e_i) ) / (2*epsilon).\n",
    "\n",
    "    We then look at the Euclidean distance between the gradient\n",
    "    computed using this approximation and the gradient computed by\n",
    "    compute_square_loss_gradient(X, y, theta).  If the Euclidean\n",
    "    distance exceeds tolerance, we say the gradient is incorrect.\n",
    "\n",
    "    Args:\n",
    "        X - the feature vector, 2D numpy array of size (num_instances, num_features)\n",
    "        y - the label vector, 1D numpy array of size (num_instances)\n",
    "        theta - the parameter vector, 1D numpy array of size (num_features)\n",
    "        epsilon - the epsilon used in approximation\n",
    "        tolerance - the tolerance error\n",
    "\n",
    "    Return:\n",
    "        A boolean value indicating whether the gradient is correct or not\n",
    "    \"\"\"\n",
    "    true_gradient = compute_square_loss_gradient(X, y, theta) #The true gradient\n",
    "    num_features = theta.shape[0]\n",
    "    approx_grad = np.zeros(num_features) #Initialize the gradient we approximate\n",
    "    sum = 0\n",
    "    \n",
    "    for i in range(num_features):\n",
    "        e_i = np.zeros(num_features)\n",
    "        e_i[i] = 1\n",
    "        approx_grad = (compute_square_loss(X,y,theta + epsilon*e_i) - compute_square_loss(X,y,theta - epsilon*e_i))/(2*epsilon)\n",
    "        sum += abs(approx_grad-true_gradient[i])\n",
    "        \n",
    "    return sum/num_features < tolerance"
   ]
  },
  {
   "cell_type": "markdown",
   "metadata": {},
   "source": [
    "### Q4"
   ]
  },
  {
   "cell_type": "markdown",
   "metadata": {},
   "source": [
    "### a"
   ]
  },
  {
   "cell_type": "code",
   "execution_count": 6,
   "metadata": {},
   "outputs": [],
   "source": [
    "def batch_grad_descent(X, y, alpha=0.1, num_step=1000, grad_check=False):\n",
    "    \"\"\"\n",
    "    In this question you will implement batch gradient descent to\n",
    "    minimize the average square loss objective.\n",
    "\n",
    "    Args:\n",
    "        X - the feature vector, 2D numpy array of size (num_instances, num_features)\n",
    "        y - the label vector, 1D numpy array of size (num_instances)\n",
    "        alpha - step size in gradient descent\n",
    "        num_step - number of steps to run\n",
    "        grad_check - a boolean value indicating whether checking the gradient when updating\n",
    "\n",
    "    Returns:\n",
    "        theta_hist - the history of parameter vector, 2D numpy array of size (num_step+1, num_features)\n",
    "                     for instance, theta in step 0 should be theta_hist[0], theta in step (num_step) is theta_hist[-1]\n",
    "        loss_hist - the history of average square loss on the data, 1D numpy array, (num_step+1)\n",
    "    \"\"\"\n",
    "    num_instances, num_features = X.shape[0], X.shape[1]\n",
    "    theta_hist = np.zeros((num_step+1, num_features)) #Initialize theta_hist\n",
    "    loss_hist = np.zeros(num_step+1) #Initialize loss_hist\n",
    "    theta = np.zeros(num_features) #Initialize theta\n",
    "    theta_hist[0,:] = theta\n",
    "    loss_hist[0] = compute_square_loss(X,y,theta)\n",
    "    \n",
    "    for i in range(1,num_step+1):\n",
    "        theta -= alpha * compute_square_loss_gradient(X,y,theta)\n",
    "        theta_hist[i,:] = theta\n",
    "        loss_hist[i] = compute_square_loss(X,y,theta)\n",
    "    \n",
    "    return theta_hist,loss_hist"
   ]
  },
  {
   "cell_type": "markdown",
   "metadata": {},
   "source": [
    "### b"
   ]
  },
  {
   "cell_type": "code",
   "execution_count": 7,
   "metadata": {},
   "outputs": [
    {
     "name": "stdout",
     "output_type": "stream",
     "text": [
      "loading the dataset\n",
      "Split into Train and Test\n",
      "Scaling all to [0, 1]\n"
     ]
    },
    {
     "name": "stderr",
     "output_type": "stream",
     "text": [
      "/opt/conda/envs/dsga-1003/lib/python3.7/site-packages/numpy/core/_methods.py:151: RuntimeWarning: overflow encountered in reduce\n",
      "  ret = umr_sum(arr, axis, dtype, out, keepdims)\n",
      "/opt/conda/envs/dsga-1003/lib/python3.7/site-packages/ipykernel_launcher.py:14: RuntimeWarning: invalid value encountered in multiply\n",
      "  \n"
     ]
    },
    {
     "data": {
      "image/png": "[encoded data removed]",
      "text/plain": [
       "<Figure size 432x288 with 4 Axes>"
      ]
     },
     "metadata": {
      "needs_background": "light"
     },
     "output_type": "display_data"
    }
   ],
   "source": [
    "#Loading the dataset\n",
    "print('loading the dataset')\n",
    "\n",
    "df = pd.read_csv('ridge_regression_dataset.csv', delimiter=',')\n",
    "X = df.values[:,:-1]\n",
    "y = df.values[:,-1]\n",
    "\n",
    "print('Split into Train and Test')\n",
    "X_train, X_test, y_train, y_test = train_test_split(X, y, test_size =100, random_state=10)\n",
    "\n",
    "print(\"Scaling all to [0, 1]\")\n",
    "X_train, X_test = feature_normalization(X_train, X_test)\n",
    "X_train = np.hstack((X_train, np.ones((X_train.shape[0], 1))))  # Add bias term\n",
    "X_test = np.hstack((X_test, np.ones((X_test.shape[0], 1))))  # Add bias term\n",
    "\n",
    "step_sizes = [0.5,0.1,0.05,0.01]\n",
    "losses = []\n",
    "\n",
    "for i,alpha in enumerate(step_sizes):\n",
    "    _,loss_hist = batch_grad_descent(X_train,y_train,alpha=alpha)\n",
    "    losses.append(loss_hist)\n",
    "    plt.subplot(2,2,i+1)\n",
    "    plt.plot(loss_hist,label=\"alpha = \" + str(alpha))\n",
    "    plt.legend()\n",
    "    "
   ]
  },
  {
   "cell_type": "markdown",
   "metadata": {},
   "source": [
    "As we can see, the algorithm may diverge if the learning rate is too big, for example 0.5 or 0.1."
   ]
  },
  {
   "cell_type": "markdown",
   "metadata": {},
   "source": [
    "## Ridge Regression"
   ]
  },
  {
   "cell_type": "markdown",
   "metadata": {},
   "source": [
    "### Q1"
   ]
  },
  {
   "cell_type": "markdown",
   "metadata": {},
   "source": [
    "$$J'(\\theta) = 2 * \\text{np.mean}(X(X\\theta-Y)) + 2 \\lambda \\theta$$"
   ]
  },
  {
   "cell_type": "markdown",
   "metadata": {},
   "source": [
    "### Q2"
   ]
  },
  {
   "cell_type": "code",
   "execution_count": 8,
   "metadata": {},
   "outputs": [],
   "source": [
    "def compute_regularized_square_loss_gradient(X, y, theta, lambda_reg):\n",
    "    \"\"\"\n",
    "    Compute the gradient of L2-regularized average square loss function given X, y and theta\n",
    "\n",
    "    Args:\n",
    "        X - the feature vector, 2D numpy array of size (num_instances, num_features)\n",
    "        y - the label vector, 1D numpy array of size (num_instances)\n",
    "        theta - the parameter vector, 1D numpy array of size (num_features)\n",
    "        lambda_reg - the regularization coefficient\n",
    "\n",
    "    Returns:\n",
    "        grad - gradient vector, 1D numpy array of size (num_features)\n",
    "    \"\"\"\n",
    "    return 2 * np.mean((np.dot(X,theta)-y).reshape(-1,1)*X,axis=0) + 2*lambda_reg*theta"
   ]
  },
  {
   "cell_type": "markdown",
   "metadata": {},
   "source": [
    "### Q3"
   ]
  },
  {
   "cell_type": "code",
   "execution_count": 13,
   "metadata": {},
   "outputs": [],
   "source": [
    "def regularized_grad_descent(X, y, alpha=0.05, lambda_reg=10**-2, num_step=1000):\n",
    "    \"\"\"\n",
    "    Args:\n",
    "        X - the feature vector, 2D numpy array of size (num_instances, num_features)\n",
    "        y - the label vector, 1D numpy array of size (num_instances)\n",
    "        alpha - step size in gradient descent\n",
    "        lambda_reg - the regularization coefficient\n",
    "        num_step - number of steps to run\n",
    "    \n",
    "    Returns:\n",
    "        theta_hist - the history of parameter vector, 2D numpy array of size (num_step+1, num_features)\n",
    "                     for instance, theta in step 0 should be theta_hist[0], theta in step (num_step+1) is theta_hist[-1]\n",
    "        loss hist - the history of average square loss function without the regularization term, 1D numpy array.\n",
    "    \"\"\"\n",
    "    num_instances, num_features = X.shape[0], X.shape[1]\n",
    "    theta_hist = np.zeros((num_step+1, num_features)) #Initialize theta_hist\n",
    "    loss_hist = np.zeros(num_step+1) #Initialize loss_hist\n",
    "    theta = np.zeros(num_features) #Initialize theta\n",
    "    theta_hist[0,:] = theta\n",
    "    loss_hist[0] = compute_square_loss(X,y,theta)\n",
    "    \n",
    "    for i in range(1,num_step+1):\n",
    "        theta -= alpha * compute_regularized_square_loss_gradient(X,y,theta,lambda_reg)\n",
    "        theta_hist[i,:] = theta\n",
    "        loss_hist[i] = compute_square_loss(X,y,theta)\n",
    "    \n",
    "    return theta_hist,loss_hist"
   ]
  },
  {
   "cell_type": "markdown",
   "metadata": {},
   "source": [
    "### Q4"
   ]
  },
  {
   "cell_type": "markdown",
   "metadata": {},
   "source": [
    "Because the bias term is $B*\\theta_{d+1}$, and we are adjusting $\\theta_{d+1}$. If B is large, then $\\theta_{d+1}$ can be adjusted small and the regularization is small compared to the entire regularization."
   ]
  },
  {
   "cell_type": "markdown",
   "metadata": {},
   "source": [
    "### Q5"
   ]
  },
  {
   "cell_type": "code",
   "execution_count": 10,
   "metadata": {},
   "outputs": [
    {
     "name": "stdout",
     "output_type": "stream",
     "text": [
      "loading the dataset\n",
      "Split into Train and Test\n",
      "Scaling all to [0, 1]\n"
     ]
    }
   ],
   "source": [
    "#Loading the dataset\n",
    "print('loading the dataset')\n",
    "\n",
    "df = pd.read_csv('ridge_regression_dataset.csv', delimiter=',')\n",
    "X = df.values[:,:-1]\n",
    "y = df.values[:,-1]\n",
    "\n",
    "print('Split into Train and Test')\n",
    "X_train, X_test, y_train, y_test = train_test_split(X, y, test_size =100, random_state=10)\n",
    "\n",
    "print(\"Scaling all to [0, 1]\")\n",
    "X_train, X_test = feature_normalization(X_train, X_test)\n",
    "X_train = np.hstack((X_train, np.ones((X_train.shape[0], 1))))  # Add bias term\n",
    "X_test = np.hstack((X_test, np.ones((X_test.shape[0], 1))))  # Add bias term\n",
    "\n",
    "thetas = []\n",
    "losses = []\n",
    "lambdas = [1e-7,5e-7,1e-6,5e-6,1e-5,5e-5,1e-4,5e-4,1e-3,5e-3,1e-2,5e-2,1e-1]\n",
    "\n",
    "for i,lambd in enumerate(lambdas):\n",
    "    theta_hist,loss_hist = regularized_grad_descent(X_train,y_train,lambda_reg=lambd)\n",
    "    losses.append(loss_hist)\n",
    "    thetas.append(theta_hist)"
   ]
  },
  {
   "cell_type": "code",
   "execution_count": 11,
   "metadata": {},
   "outputs": [
    {
     "data": {
      "text/plain": [
       "Text(0.5, 1.0, 'testing loss')"
      ]
     },
     "execution_count": 11,
     "metadata": {},
     "output_type": "execute_result"
    },
    {
     "data": {
      "image/png": "[encoded data removed]",
      "text/plain": [
       "<Figure size 432x288 with 1 Axes>"
      ]
     },
     "metadata": {
      "needs_background": "light"
     },
     "output_type": "display_data"
    }
   ],
   "source": [
    "best_thetas = [theta[-1,:] for theta in thetas]\n",
    "test_losses = [compute_square_loss(X_test,y_test,theta) for theta in best_thetas]\n",
    "plt.plot(np.log(lambdas),test_losses,\"o-\")\n",
    "plt.xlabel(\"log of lambda\")\n",
    "plt.ylabel(\"loss\")\n",
    "plt.title(\"testing loss\")\n"
   ]
  },
  {
   "cell_type": "code",
   "execution_count": 12,
   "metadata": {},
   "outputs": [
    {
     "name": "stdout",
     "output_type": "stream",
     "text": [
      "0.01\n"
     ]
    }
   ],
   "source": [
    "print(lambdas[np.argmin(test_losses)])"
   ]
  },
  {
   "cell_type": "markdown",
   "metadata": {},
   "source": [
    "### Q6"
   ]
  },
  {
   "cell_type": "markdown",
   "metadata": {},
   "source": [
    "I would use the theta trained with 0.01 as the regularization parameter since the theta trained with 0.01 regularztion has the lowest loss on the testing set, which means this theta generalizes the best."
   ]
  },
  {
   "cell_type": "markdown",
   "metadata": {},
   "source": [
    "## Stochastic Gradient Descent"
   ]
  },
  {
   "cell_type": "markdown",
   "metadata": {},
   "source": [
    "### Q1 "
   ]
  },
  {
   "cell_type": "markdown",
   "metadata": {},
   "source": [
    "$$f_i(\\theta)= (h_{\\theta}(x_i)-y_i)^2 + m\\lambda\\theta^T\\theta$$"
   ]
  },
  {
   "cell_type": "markdown",
   "metadata": {},
   "source": [
    "### Q2"
   ]
  },
  {
   "cell_type": "markdown",
   "metadata": {},
   "source": [
    "Since $i$ is uniformaly drawn from $\\{1,2,...,m\\}$, each $i$ has the same probability $\\frac{1}{m}$ of being chosen. Thus, according to the definition of expectation, $$E(\\nabla f_i(\\theta)) = \\sum_{i=1}^{m}\\frac{1}{m}\\nabla f_i(\\theta) = \\frac{1}{m}\\sum_{i=1}^{m}\\nabla f_i(\\theta) = \\nabla J(\\theta)$$"
   ]
  },
  {
   "cell_type": "markdown",
   "metadata": {},
   "source": [
    "### Q3"
   ]
  },
  {
   "cell_type": "markdown",
   "metadata": {},
   "source": [
    "For each epoch, shuffle $D = \\{1,2,...,m\\}$, then do $$\\theta \\leftarrow \\theta - \\alpha(\\frac{2}{m}(\\theta^T x_i-y_i )x_i + \\lambda\\theta) \\hspace{0.2cm}\\text{for } i \\in D$$"
   ]
  },
  {
   "cell_type": "markdown",
   "metadata": {},
   "source": [
    "### Q4"
   ]
  },
  {
   "cell_type": "code",
   "execution_count": 58,
   "metadata": {},
   "outputs": [],
   "source": [
    "def stochastic_grad_descent(X, y, alpha=0.01, lambda_reg=10**-2, num_epoch=1000):\n",
    "    \"\"\"\n",
    "    In this question you will implement stochastic gradient descent with regularization term\n",
    "\n",
    "    Args:\n",
    "        X - the feature vector, 2D numpy array of size (num_instances, num_features)\n",
    "        y - the label vector, 1D numpy array of size (num_instances)\n",
    "        alpha - string or float, step size in gradient descent\n",
    "                NOTE: In SGD, it's not a good idea to use a fixed step size. Usually it's set to 1/sqrt(t) or 1/t\n",
    "                if alpha is a float, then the step size in every step is the float.\n",
    "                if alpha == \"1/sqrt(t)\", alpha = 1/sqrt(t).\n",
    "                if alpha == \"1/t\", alpha = 1/t.\n",
    "        lambda_reg - the regularization coefficient\n",
    "        num_epoch - number of epochs to go through the whole training set\n",
    "\n",
    "    Returns:\n",
    "        theta_hist - the history of parameter vector, 3D numpy array of size (num_epoch, num_instances, num_features)\n",
    "                     for instance, theta in epoch 0 should be theta_hist[0], theta in epoch (num_epoch) is theta_hist[-1]\n",
    "        loss hist - the history of loss function vector, 2D numpy array of size (num_epoch, num_instances)\n",
    "    \"\"\"\n",
    "    num_instances, num_features = X.shape[0], X.shape[1]\n",
    "    theta = np.ones(num_features) #Initialize theta\n",
    "    C = 0.1\n",
    "    theta_hist = np.zeros((num_epoch, num_instances, num_features)) #Initialize theta_hist\n",
    "    loss_hist = np.zeros((num_epoch, num_instances)) #Initialize loss_hist\n",
    "    \n",
    "    if isinstance(alpha, str):\n",
    "        if alpha == \"C/sqrt(t)\":\n",
    "            sqrt = True\n",
    "        else:\n",
    "            sqrt = False\n",
    "            \n",
    "    for i in range(num_epoch):\n",
    "        shuffle = np.arange(num_instances)\n",
    "        np.random.shuffle(shuffle)\n",
    "        if isinstance(alpha, str):\n",
    "            if i == 0:\n",
    "                alpha = C\n",
    "            else:\n",
    "                alpha = C/np.sqrt(i) if sqrt else C/i\n",
    "        for j in shuffle:\n",
    "            theta -= 2 * alpha * ((np.dot(theta,X[j,:]) - y[j]) * X[j,:] + lambda_reg*theta)/num_instances\n",
    "            loss_hist[i,j] = compute_square_loss(X,y,theta)\n",
    "            theta_hist[i,j,:] = theta\n",
    "    return theta_hist,loss_hist\n",
    "        "
   ]
  },
  {
   "cell_type": "code",
   "execution_count": 59,
   "metadata": {},
   "outputs": [
    {
     "name": "stdout",
     "output_type": "stream",
     "text": [
      "loading the dataset\n",
      "Split into Train and Test\n",
      "Scaling all to [0, 1]\n"
     ]
    }
   ],
   "source": [
    "#Loading the dataset\n",
    "print('loading the dataset')\n",
    "\n",
    "df = pd.read_csv('ridge_regression_dataset.csv', delimiter=',')\n",
    "X = df.values[:,:-1]\n",
    "y = df.values[:,-1]\n",
    "\n",
    "print('Split into Train and Test')\n",
    "X_train, X_test, y_train, y_test = train_test_split(X, y, test_size=100, random_state=10)\n",
    "\n",
    "print(\"Scaling all to [0, 1]\")\n",
    "X_train, X_test = feature_normalization(X_train, X_test)\n",
    "X_train = np.hstack((X_train, np.ones((X_train.shape[0], 1))))  # Add bias term\n",
    "X_test = np.hstack((X_test, np.ones((X_test.shape[0], 1))))  # Add bias term"
   ]
  },
  {
   "cell_type": "code",
   "execution_count": 64,
   "metadata": {},
   "outputs": [
    {
     "data": {
      "image/png": "[encoded data removed]",
      "text/plain": [
       "<Figure size 432x288 with 1 Axes>"
      ]
     },
     "metadata": {
      "needs_background": "light"
     },
     "output_type": "display_data"
    }
   ],
   "source": [
    "alphas = [0.05,0.005,\"0.1/sqrt(t)\",\"0.1/t\"]\n",
    "thetas = []\n",
    "losses = []\n",
    "\n",
    "for alpha in alphas:\n",
    "    theta_hist,loss_hist = stochastic_grad_descent(X_train, y_train, alpha=alpha,lambda_reg=0.01, num_epoch=1000)\n",
    "    thetas.append(theta_hist)\n",
    "    losses.append(loss_hist)\n",
    "    plt.plot(range(loss_hist.shape[0]),np.log(loss_hist[:,-1]),label=\"alpha=\"+str(alpha))\n",
    "    plt.xlabel(\"Epoch number\")\n",
    "    plt.ylabel(\"Log of objective function\")\n",
    "    plt.legend()\n",
    "    plt.title(\"Training loss with different stepsizes\")"
   ]
  },
  {
   "cell_type": "markdown",
   "metadata": {},
   "source": [
    "As we can see from the plot above, out of the 4 stepsize setups, alpha = 0.1/step_size has the best training loss."
   ]
  },
  {
   "cell_type": "code",
   "execution_count": null,
   "metadata": {},
   "outputs": [],
   "source": []
  }
 ],
 "metadata": {
  "kernelspec": {
   "display_name": "Python [conda env:dsga-1003]",
   "language": "python",
   "name": "conda-env-dsga-1003-py"
  },
  "language_info": {
   "codemirror_mode": {
    "name": "ipython",
    "version": 3
   },
   "file_extension": ".py",
   "mimetype": "text/x-python",
   "name": "python",
   "nbconvert_exporter": "python",
   "pygments_lexer": "ipython3",
   "version": "3.7.6"
  }
 },
 "nbformat": 4,
 "nbformat_minor": 4
}
